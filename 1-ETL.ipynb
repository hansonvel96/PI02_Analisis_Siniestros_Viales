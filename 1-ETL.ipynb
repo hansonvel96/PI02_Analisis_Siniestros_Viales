{
 "cells": [
  {
   "cell_type": "markdown",
   "metadata": {},
   "source": [
    "# **Extracción, Transformación y Carga** (`ETL`) "
   ]
  },
  {
   "cell_type": "markdown",
   "metadata": {},
   "source": [
    "#### Teniendo en cuenta que en la Argentina, los accidentes de tránsito que arrojan víctimas fatales se caratulan como 'HOMICIDIO CULPOSO' y que los que no arrojan víctimas fatales se clasifican según su gravedad en 'LESIONES' o 'LESIONES GRAVES' (cuando el tiempo de recuperación demande mas de 30 días de reposo, o cuando la víctima haya sufrido la amputación de un miembro o la pérdida de un sentido), procederemos a realizar las normalizaciones de datos por separado para luego unificarlos en un único dataset."
   ]
  },
  {
   "cell_type": "markdown",
   "metadata": {},
   "source": [
    "## Importamos librerías y cargamos los archivos de entrada"
   ]
  },
  {
   "cell_type": "code",
   "execution_count": 69,
   "metadata": {},
   "outputs": [],
   "source": [
    "import numpy as np\n",
    "import pandas as pd"
   ]
  },
  {
   "cell_type": "code",
   "execution_count": 70,
   "metadata": {},
   "outputs": [],
   "source": [
    "\n",
    "#Leemos los Dataset desde la Carpeta 'Datasets' donde se encuentra alojados los archivos\n",
    "homicidios = pd.read_excel('Datasets/homicidios.xlsx',sheet_name = 'HECHOS',na_values=['SD', 'sd'])\n",
    "victima_h = pd.read_excel('Datasets/homicidios.xlsx',sheet_name = 'VICTIMAS',na_values=['SD', 'sd'])\n",
    "lesiones = pd.read_excel('Datasets/lesiones.xlsx' , sheet_name = 'HECHOS',na_values=['SD', 'sd'])\n",
    "victima_l = pd.read_excel('Datasets/lesiones.xlsx' , sheet_name = 'VICTIMAS',na_values=['SD', 'sd'])"
   ]
  },
  {
   "cell_type": "code",
   "execution_count": 71,
   "metadata": {},
   "outputs": [
    {
     "data": {
      "text/html": [
       "<div>\n",
       "<style scoped>\n",
       "    .dataframe tbody tr th:only-of-type {\n",
       "        vertical-align: middle;\n",
       "    }\n",
       "\n",
       "    .dataframe tbody tr th {\n",
       "        vertical-align: top;\n",
       "    }\n",
       "\n",
       "    .dataframe thead th {\n",
       "        text-align: right;\n",
       "    }\n",
       "</style>\n",
       "<table border=\"1\" class=\"dataframe\">\n",
       "  <thead>\n",
       "    <tr style=\"text-align: right;\">\n",
       "      <th></th>\n",
       "      <th>ID</th>\n",
       "      <th>N_VICTIMAS</th>\n",
       "      <th>FECHA</th>\n",
       "      <th>AAAA</th>\n",
       "      <th>MM</th>\n",
       "      <th>DD</th>\n",
       "      <th>HORA</th>\n",
       "      <th>HH</th>\n",
       "      <th>LUGAR_DEL_HECHO</th>\n",
       "      <th>TIPO_DE_CALLE</th>\n",
       "      <th>...</th>\n",
       "      <th>Altura</th>\n",
       "      <th>Cruce</th>\n",
       "      <th>Dirección Normalizada</th>\n",
       "      <th>COMUNA</th>\n",
       "      <th>XY (CABA)</th>\n",
       "      <th>pos x</th>\n",
       "      <th>pos y</th>\n",
       "      <th>PARTICIPANTES</th>\n",
       "      <th>VICTIMA</th>\n",
       "      <th>ACUSADO</th>\n",
       "    </tr>\n",
       "  </thead>\n",
       "  <tbody>\n",
       "    <tr>\n",
       "      <th>0</th>\n",
       "      <td>2016-0001</td>\n",
       "      <td>1</td>\n",
       "      <td>2016-01-01</td>\n",
       "      <td>2016</td>\n",
       "      <td>1</td>\n",
       "      <td>1</td>\n",
       "      <td>04:00:00</td>\n",
       "      <td>4.0</td>\n",
       "      <td>AV PIEDRA BUENA Y AV FERNANDEZ DE LA CRUZ</td>\n",
       "      <td>AVENIDA</td>\n",
       "      <td>...</td>\n",
       "      <td>NaN</td>\n",
       "      <td>FERNANDEZ DE LA CRUZ, F., GRAL. AV.</td>\n",
       "      <td>PIEDRA BUENA AV. y FERNANDEZ DE LA CRUZ, F., G...</td>\n",
       "      <td>8</td>\n",
       "      <td>Point (98896.78238426 93532.43437792)</td>\n",
       "      <td>-58.47533969</td>\n",
       "      <td>-34.68757022</td>\n",
       "      <td>MOTO-AUTO</td>\n",
       "      <td>MOTO</td>\n",
       "      <td>AUTO</td>\n",
       "    </tr>\n",
       "    <tr>\n",
       "      <th>1</th>\n",
       "      <td>2016-0002</td>\n",
       "      <td>1</td>\n",
       "      <td>2016-01-02</td>\n",
       "      <td>2016</td>\n",
       "      <td>1</td>\n",
       "      <td>2</td>\n",
       "      <td>01:15:00</td>\n",
       "      <td>1.0</td>\n",
       "      <td>AV GRAL PAZ  Y AV DE LOS CORRALES</td>\n",
       "      <td>GRAL PAZ</td>\n",
       "      <td>...</td>\n",
       "      <td>NaN</td>\n",
       "      <td>DE LOS CORRALES AV.</td>\n",
       "      <td>PAZ, GRAL. AV. y DE LOS CORRALES AV.</td>\n",
       "      <td>9</td>\n",
       "      <td>Point (95832.05571093 95505.41641999)</td>\n",
       "      <td>-58.50877521</td>\n",
       "      <td>-34.66977709</td>\n",
       "      <td>AUTO-PASAJEROS</td>\n",
       "      <td>AUTO</td>\n",
       "      <td>PASAJEROS</td>\n",
       "    </tr>\n",
       "    <tr>\n",
       "      <th>2</th>\n",
       "      <td>2016-0003</td>\n",
       "      <td>1</td>\n",
       "      <td>2016-01-03</td>\n",
       "      <td>2016</td>\n",
       "      <td>1</td>\n",
       "      <td>3</td>\n",
       "      <td>07:00:00</td>\n",
       "      <td>7.0</td>\n",
       "      <td>AV ENTRE RIOS 2034</td>\n",
       "      <td>AVENIDA</td>\n",
       "      <td>...</td>\n",
       "      <td>2034.0</td>\n",
       "      <td>NaN</td>\n",
       "      <td>ENTRE RIOS AV. 2034</td>\n",
       "      <td>1</td>\n",
       "      <td>Point (106684.29090040 99706.57687843)</td>\n",
       "      <td>-58.39040293</td>\n",
       "      <td>-34.63189362</td>\n",
       "      <td>MOTO-AUTO</td>\n",
       "      <td>MOTO</td>\n",
       "      <td>AUTO</td>\n",
       "    </tr>\n",
       "    <tr>\n",
       "      <th>3</th>\n",
       "      <td>2016-0004</td>\n",
       "      <td>1</td>\n",
       "      <td>2016-01-10</td>\n",
       "      <td>2016</td>\n",
       "      <td>1</td>\n",
       "      <td>10</td>\n",
       "      <td>00:00:00</td>\n",
       "      <td>0.0</td>\n",
       "      <td>AV LARRAZABAL Y GRAL VILLEGAS CONRADO</td>\n",
       "      <td>AVENIDA</td>\n",
       "      <td>...</td>\n",
       "      <td>NaN</td>\n",
       "      <td>VILLEGAS, CONRADO, GRAL.</td>\n",
       "      <td>LARRAZABAL AV. y VILLEGAS, CONRADO, GRAL.</td>\n",
       "      <td>8</td>\n",
       "      <td>Point (99840.65224780 94269.16534422)</td>\n",
       "      <td>-58.46503904</td>\n",
       "      <td>-34.68092974</td>\n",
       "      <td>MOTO-SD</td>\n",
       "      <td>MOTO</td>\n",
       "      <td>NaN</td>\n",
       "    </tr>\n",
       "    <tr>\n",
       "      <th>4</th>\n",
       "      <td>2016-0005</td>\n",
       "      <td>1</td>\n",
       "      <td>2016-01-21</td>\n",
       "      <td>2016</td>\n",
       "      <td>1</td>\n",
       "      <td>21</td>\n",
       "      <td>05:20:00</td>\n",
       "      <td>5.0</td>\n",
       "      <td>AV SAN JUAN Y PRESIDENTE LUIS SAENZ PEÑA</td>\n",
       "      <td>AVENIDA</td>\n",
       "      <td>...</td>\n",
       "      <td>NaN</td>\n",
       "      <td>SAENZ PE?A, LUIS, PRES.</td>\n",
       "      <td>SAN JUAN AV. y SAENZ PEÃ‘A, LUIS, PRES.</td>\n",
       "      <td>1</td>\n",
       "      <td>Point (106980.32827929 100752.16915795)</td>\n",
       "      <td>-58.38718297</td>\n",
       "      <td>-34.62246630</td>\n",
       "      <td>MOTO-PASAJEROS</td>\n",
       "      <td>MOTO</td>\n",
       "      <td>PASAJEROS</td>\n",
       "    </tr>\n",
       "  </tbody>\n",
       "</table>\n",
       "<p>5 rows × 21 columns</p>\n",
       "</div>"
      ],
      "text/plain": [
       "          ID  N_VICTIMAS      FECHA  AAAA  MM  DD      HORA   HH  \\\n",
       "0  2016-0001           1 2016-01-01  2016   1   1  04:00:00  4.0   \n",
       "1  2016-0002           1 2016-01-02  2016   1   2  01:15:00  1.0   \n",
       "2  2016-0003           1 2016-01-03  2016   1   3  07:00:00  7.0   \n",
       "3  2016-0004           1 2016-01-10  2016   1  10  00:00:00  0.0   \n",
       "4  2016-0005           1 2016-01-21  2016   1  21  05:20:00  5.0   \n",
       "\n",
       "                             LUGAR_DEL_HECHO TIPO_DE_CALLE  ...  Altura  \\\n",
       "0  AV PIEDRA BUENA Y AV FERNANDEZ DE LA CRUZ       AVENIDA  ...     NaN   \n",
       "1          AV GRAL PAZ  Y AV DE LOS CORRALES      GRAL PAZ  ...     NaN   \n",
       "2                         AV ENTRE RIOS 2034       AVENIDA  ...  2034.0   \n",
       "3      AV LARRAZABAL Y GRAL VILLEGAS CONRADO       AVENIDA  ...     NaN   \n",
       "4  AV SAN JUAN Y PRESIDENTE LUIS SAENZ PEÑA        AVENIDA  ...     NaN   \n",
       "\n",
       "                                 Cruce  \\\n",
       "0  FERNANDEZ DE LA CRUZ, F., GRAL. AV.   \n",
       "1                  DE LOS CORRALES AV.   \n",
       "2                                  NaN   \n",
       "3             VILLEGAS, CONRADO, GRAL.   \n",
       "4              SAENZ PE?A, LUIS, PRES.   \n",
       "\n",
       "                               Dirección Normalizada COMUNA  \\\n",
       "0  PIEDRA BUENA AV. y FERNANDEZ DE LA CRUZ, F., G...      8   \n",
       "1               PAZ, GRAL. AV. y DE LOS CORRALES AV.      9   \n",
       "2                                ENTRE RIOS AV. 2034      1   \n",
       "3          LARRAZABAL AV. y VILLEGAS, CONRADO, GRAL.      8   \n",
       "4            SAN JUAN AV. y SAENZ PEÃ‘A, LUIS, PRES.      1   \n",
       "\n",
       "                                 XY (CABA)         pos x         pos y  \\\n",
       "0    Point (98896.78238426 93532.43437792)  -58.47533969  -34.68757022   \n",
       "1    Point (95832.05571093 95505.41641999)  -58.50877521  -34.66977709   \n",
       "2   Point (106684.29090040 99706.57687843)  -58.39040293  -34.63189362   \n",
       "3    Point (99840.65224780 94269.16534422)  -58.46503904  -34.68092974   \n",
       "4  Point (106980.32827929 100752.16915795)  -58.38718297  -34.62246630   \n",
       "\n",
       "    PARTICIPANTES VICTIMA    ACUSADO  \n",
       "0       MOTO-AUTO    MOTO       AUTO  \n",
       "1  AUTO-PASAJEROS    AUTO  PASAJEROS  \n",
       "2       MOTO-AUTO    MOTO       AUTO  \n",
       "3         MOTO-SD    MOTO        NaN  \n",
       "4  MOTO-PASAJEROS    MOTO  PASAJEROS  \n",
       "\n",
       "[5 rows x 21 columns]"
      ]
     },
     "execution_count": 71,
     "metadata": {},
     "output_type": "execute_result"
    }
   ],
   "source": [
    "homicidios.head()"
   ]
  },
  {
   "cell_type": "markdown",
   "metadata": {},
   "source": [
    "#### Comenzamos con la exploración de los Datasets para tener un analisis previo y acercamiento mas amplio con los datos que vamods a trabajar, para ello usamos la funcion info nos muestra cantidas de columnas, nombres de columnas y tipos de datos"
   ]
  },
  {
   "cell_type": "code",
   "execution_count": 72,
   "metadata": {},
   "outputs": [
    {
     "name": "stdout",
     "output_type": "stream",
     "text": [
      "<class 'pandas.core.frame.DataFrame'>\n",
      "RangeIndex: 696 entries, 0 to 695\n",
      "Data columns (total 21 columns):\n",
      " #   Column                 Non-Null Count  Dtype         \n",
      "---  ------                 --------------  -----         \n",
      " 0   ID                     696 non-null    object        \n",
      " 1   N_VICTIMAS             696 non-null    int64         \n",
      " 2   FECHA                  696 non-null    datetime64[ns]\n",
      " 3   AAAA                   696 non-null    int64         \n",
      " 4   MM                     696 non-null    int64         \n",
      " 5   DD                     696 non-null    int64         \n",
      " 6   HORA                   695 non-null    object        \n",
      " 7   HH                     695 non-null    float64       \n",
      " 8   LUGAR_DEL_HECHO        695 non-null    object        \n",
      " 9   TIPO_DE_CALLE          696 non-null    object        \n",
      " 10  Calle                  695 non-null    object        \n",
      " 11  Altura                 129 non-null    float64       \n",
      " 12  Cruce                  525 non-null    object        \n",
      " 13  Dirección Normalizada  688 non-null    object        \n",
      " 14  COMUNA                 696 non-null    int64         \n",
      " 15  XY (CABA)              696 non-null    object        \n",
      " 16  pos x                  696 non-null    object        \n",
      " 17  pos y                  696 non-null    object        \n",
      " 18  PARTICIPANTES          696 non-null    object        \n",
      " 19  VICTIMA                687 non-null    object        \n",
      " 20  ACUSADO                673 non-null    object        \n",
      "dtypes: datetime64[ns](1), float64(2), int64(5), object(13)\n",
      "memory usage: 114.3+ KB\n"
     ]
    }
   ],
   "source": [
    "homicidios.info()"
   ]
  },
  {
   "cell_type": "code",
   "execution_count": 73,
   "metadata": {},
   "outputs": [
    {
     "name": "stdout",
     "output_type": "stream",
     "text": [
      "<class 'pandas.core.frame.DataFrame'>\n",
      "RangeIndex: 717 entries, 0 to 716\n",
      "Data columns (total 10 columns):\n",
      " #   Column               Non-Null Count  Dtype         \n",
      "---  ------               --------------  -----         \n",
      " 0   ID_hecho             717 non-null    object        \n",
      " 1   FECHA                717 non-null    datetime64[ns]\n",
      " 2   AAAA                 717 non-null    int64         \n",
      " 3   MM                   717 non-null    int64         \n",
      " 4   DD                   717 non-null    int64         \n",
      " 5   ROL                  706 non-null    object        \n",
      " 6   VICTIMA              708 non-null    object        \n",
      " 7   SEXO                 711 non-null    object        \n",
      " 8   EDAD                 664 non-null    float64       \n",
      " 9   FECHA_FALLECIMIENTO  649 non-null    object        \n",
      "dtypes: datetime64[ns](1), float64(1), int64(3), object(5)\n",
      "memory usage: 56.1+ KB\n"
     ]
    }
   ],
   "source": [
    "victima_h.info()"
   ]
  },
  {
   "cell_type": "code",
   "execution_count": 74,
   "metadata": {},
   "outputs": [
    {
     "name": "stdout",
     "output_type": "stream",
     "text": [
      "<class 'pandas.core.frame.DataFrame'>\n",
      "RangeIndex: 23785 entries, 0 to 23784\n",
      "Data columns (total 27 columns):\n",
      " #   Column                 Non-Null Count  Dtype  \n",
      "---  ------                 --------------  -----  \n",
      " 0   id                     23785 non-null  object \n",
      " 1   n_victimas             23785 non-null  int64  \n",
      " 2   aaaa                   23785 non-null  int64  \n",
      " 3   mm                     23785 non-null  int64  \n",
      " 4   dd                     23785 non-null  int64  \n",
      " 5   fecha                  23785 non-null  object \n",
      " 6   hora                   23776 non-null  object \n",
      " 7   franja_hora            23776 non-null  float64\n",
      " 8   direccion_normalizada  12917 non-null  object \n",
      " 9   comuna                 22770 non-null  object \n",
      " 10  tipo_calle             12740 non-null  object \n",
      " 11  otra_direccion         5490 non-null   object \n",
      " 12  calle                  12867 non-null  object \n",
      " 13  altura                 12771 non-null  float64\n",
      " 14  cruce                  9407 non-null   object \n",
      " 15  geocodificacion_CABA   22533 non-null  object \n",
      " 16  longitud               22314 non-null  float64\n",
      " 17  latutid                22314 non-null  float64\n",
      " 18  victima                13052 non-null  object \n",
      " 19  acusado                8497 non-null   object \n",
      " 20  participantes          23785 non-null  object \n",
      " 21  moto                   15181 non-null  object \n",
      " 22  auto                   11149 non-null  object \n",
      " 23  transporte_publico     11891 non-null  object \n",
      " 24  camion                 10984 non-null  object \n",
      " 25  ciclista               12339 non-null  object \n",
      " 26  gravedad               646 non-null    object \n",
      "dtypes: float64(4), int64(4), object(19)\n",
      "memory usage: 4.9+ MB\n"
     ]
    }
   ],
   "source": [
    "lesiones.info()"
   ]
  },
  {
   "cell_type": "code",
   "execution_count": 75,
   "metadata": {},
   "outputs": [
    {
     "name": "stdout",
     "output_type": "stream",
     "text": [
      "<class 'pandas.core.frame.DataFrame'>\n",
      "RangeIndex: 27605 entries, 0 to 27604\n",
      "Data columns (total 9 columns):\n",
      " #   Column            Non-Null Count  Dtype         \n",
      "---  ------            --------------  -----         \n",
      " 0   ID hecho          27605 non-null  object        \n",
      " 1   AAA               27605 non-null  int64         \n",
      " 2   MM                27605 non-null  int64         \n",
      " 3   DD                27605 non-null  int64         \n",
      " 4   FECHA             27605 non-null  datetime64[ns]\n",
      " 5   VEHICULO_VICTIMA  11333 non-null  object        \n",
      " 6   SEXO              25377 non-null  object        \n",
      " 7   EDAD_VICTIMA      23134 non-null  float64       \n",
      " 8   GRAVEDAD          537 non-null    object        \n",
      "dtypes: datetime64[ns](1), float64(1), int64(3), object(4)\n",
      "memory usage: 1.9+ MB\n"
     ]
    }
   ],
   "source": [
    "victima_l.info()"
   ]
  },
  {
   "cell_type": "markdown",
   "metadata": {},
   "source": [
    "### DATASET _`Homicidios`_"
   ]
  },
  {
   "cell_type": "markdown",
   "metadata": {},
   "source": [
    "#### Se Eliminan las columnas que no consumen relevancia para el analisis."
   ]
  },
  {
   "cell_type": "code",
   "execution_count": 76,
   "metadata": {},
   "outputs": [],
   "source": [
    "homicidios.drop(columns=['AAAA', 'MM', 'DD', 'HORA', 'LUGAR_DEL_HECHO', 'Calle', \n",
    "                        'Altura', 'Cruce', 'Dirección Normalizada', 'PARTICIPANTES'], inplace=True)"
   ]
  },
  {
   "cell_type": "code",
   "execution_count": 77,
   "metadata": {},
   "outputs": [
    {
     "name": "stdout",
     "output_type": "stream",
     "text": [
      "<class 'pandas.core.frame.DataFrame'>\n",
      "RangeIndex: 696 entries, 0 to 695\n",
      "Data columns (total 11 columns):\n",
      " #   Column         Non-Null Count  Dtype         \n",
      "---  ------         --------------  -----         \n",
      " 0   ID             696 non-null    object        \n",
      " 1   N_VICTIMAS     696 non-null    int64         \n",
      " 2   FECHA          696 non-null    datetime64[ns]\n",
      " 3   HH             695 non-null    float64       \n",
      " 4   TIPO_DE_CALLE  696 non-null    object        \n",
      " 5   COMUNA         696 non-null    int64         \n",
      " 6   XY (CABA)      696 non-null    object        \n",
      " 7   pos x          696 non-null    object        \n",
      " 8   pos y          696 non-null    object        \n",
      " 9   VICTIMA        687 non-null    object        \n",
      " 10  ACUSADO        673 non-null    object        \n",
      "dtypes: datetime64[ns](1), float64(1), int64(2), object(7)\n",
      "memory usage: 59.9+ KB\n"
     ]
    }
   ],
   "source": [
    "#Volvemos a usar la función info aplicando al dataset, para corroborar la eliminancíon de las columnas\n",
    "homicidios.info()"
   ]
  },
  {
   "cell_type": "code",
   "execution_count": 78,
   "metadata": {},
   "outputs": [
    {
     "data": {
      "text/plain": [
       "ID                0\n",
       "N_VICTIMAS        0\n",
       "FECHA             0\n",
       "HH                1\n",
       "TIPO_DE_CALLE     0\n",
       "COMUNA            0\n",
       "XY (CABA)         0\n",
       "pos x             0\n",
       "pos y             0\n",
       "VICTIMA           9\n",
       "ACUSADO          23\n",
       "dtype: int64"
      ]
     },
     "execution_count": 78,
     "metadata": {},
     "output_type": "execute_result"
    }
   ],
   "source": [
    "# Verificamos cantidad de nulos\n",
    "homicidios.isnull().sum()"
   ]
  },
  {
   "cell_type": "code",
   "execution_count": 79,
   "metadata": {},
   "outputs": [],
   "source": [
    "# Se Reemplaza la columna 0 a nulos\n",
    "homicidios.loc[homicidios['COMUNA'] == '0' ,'COMUNA'] = np.nan\n",
    "\n",
    "# Se Reemplaza los valores \".\" por nulos en latitud y longitud\n",
    "homicidios.loc[homicidios['pos x'] == '.' ,'pos x'] = np.nan\n",
    "homicidios.loc[homicidios['pos y'] == '.' ,'pos y'] = np.nan\n",
    "homicidios.loc[homicidios['XY (CABA)'] == 'Point (. .)' ,'XY (CABA)'] = np.nan"
   ]
  },
  {
   "cell_type": "code",
   "execution_count": 80,
   "metadata": {},
   "outputs": [],
   "source": [
    "# Ahora Cambiamos el tipo de dato de las columnas\n",
    "homicidios['HH'] = homicidios['HH'].astype('category')\n",
    "homicidios['TIPO_DE_CALLE'] = homicidios['TIPO_DE_CALLE'].astype('category')\n",
    "homicidios['COMUNA'] = homicidios['COMUNA'].astype('category')\n",
    "homicidios['VICTIMA'] = homicidios['VICTIMA'].astype('category')\n",
    "homicidios['ACUSADO'] = homicidios['ACUSADO'].astype('category')\n",
    "\n",
    "# Y Tambien Cambiamos el tipo de dato de las columnas\n",
    "homicidios['pos x'] = homicidios['pos x'].astype('float')\n",
    "homicidios['pos y'] = homicidios['pos y'].astype('float')"
   ]
  },
  {
   "cell_type": "code",
   "execution_count": 81,
   "metadata": {},
   "outputs": [],
   "source": [
    "# Renombramos las columnas\n",
    "nuevos_nombres = {'ID': 'ID_HECHO','pos x':'LONGITUD','pos y':'LATITUD',\n",
    "                  'HH':'HORA','VICTIMA':'VEHICULO_VICTIMA','ACUSADO':'VEHICULO_ACUSADO',\n",
    "                  'Rango_etario ':'RANGO_ETARIO'}\n",
    "                 \n",
    "# Reemplazamos nombres de columnas\n",
    "homicidios = homicidios.rename(columns=nuevos_nombres)\n",
    "\n",
    "# Agregamos la columna gravedad para diferenciar los homicidios de las lesiones\n",
    "homicidios[\"GRAVEDAD\"]=\"FATAL\"\n",
    "\n",
    "# Cambiamos el tipo de dato de la columna FECHA a datetime\n",
    "homicidios[\"FECHA\"]=pd.to_datetime(homicidios[\"FECHA\"], format='%y/%m/%d', errors='coerce').dt.date"
   ]
  },
  {
   "cell_type": "markdown",
   "metadata": {},
   "source": [
    "#### Columna 'TIPO_DE_CALLE'"
   ]
  },
  {
   "cell_type": "code",
   "execution_count": 82,
   "metadata": {},
   "outputs": [
    {
     "data": {
      "text/plain": [
       "AVENIDA      429\n",
       "CALLE        136\n",
       "AUTOPISTA     66\n",
       "GRAL PAZ      65\n",
       "Name: TIPO_DE_CALLE, dtype: int64"
      ]
     },
     "execution_count": 82,
     "metadata": {},
     "output_type": "execute_result"
    }
   ],
   "source": [
    "# Verificamos el contenido de la columna TIPO_DE_CALLE\n",
    "homicidios['TIPO_DE_CALLE'].value_counts()"
   ]
  },
  {
   "cell_type": "code",
   "execution_count": 83,
   "metadata": {},
   "outputs": [],
   "source": [
    "homicidios['TIPO_DE_CALLE'].replace('GRAL PAZ', 'AVENIDA', inplace=True) # Reemplazamos GRAL PAZ por AVENIDA"
   ]
  },
  {
   "cell_type": "code",
   "execution_count": 84,
   "metadata": {},
   "outputs": [
    {
     "data": {
      "text/plain": [
       "AVENIDA      494\n",
       "CALLE        136\n",
       "AUTOPISTA     66\n",
       "Name: TIPO_DE_CALLE, dtype: int64"
      ]
     },
     "execution_count": 84,
     "metadata": {},
     "output_type": "execute_result"
    }
   ],
   "source": [
    "# Volvemos a verificar el contenido de la columna TIPO_DE_CALLE\n",
    "homicidios['TIPO_DE_CALLE'].value_counts()"
   ]
  },
  {
   "cell_type": "code",
   "execution_count": 85,
   "metadata": {},
   "outputs": [
    {
     "data": {
      "text/plain": [
       "Index(['ID_HECHO', 'N_VICTIMAS', 'FECHA', 'HORA', 'TIPO_DE_CALLE', 'COMUNA',\n",
       "       'XY (CABA)', 'LONGITUD', 'LATITUD', 'VEHICULO_VICTIMA',\n",
       "       'VEHICULO_ACUSADO', 'GRAVEDAD'],\n",
       "      dtype='object')"
      ]
     },
     "execution_count": 85,
     "metadata": {},
     "output_type": "execute_result"
    }
   ],
   "source": [
    "homicidios.columns"
   ]
  },
  {
   "cell_type": "code",
   "execution_count": 86,
   "metadata": {},
   "outputs": [],
   "source": [
    "# Creamos la columna CARATULA POLICIAL y la rellenamos con HOMICIDIO CULPOSO\n",
    "homicidios['CARATULA_POLICIAL'] = 'HOMICIDIO CULPOSO'"
   ]
  },
  {
   "cell_type": "code",
   "execution_count": 87,
   "metadata": {},
   "outputs": [
    {
     "data": {
      "text/plain": [
       "HOMICIDIO CULPOSO    696\n",
       "Name: CARATULA_POLICIAL, dtype: int64"
      ]
     },
     "execution_count": 87,
     "metadata": {},
     "output_type": "execute_result"
    }
   ],
   "source": [
    "homicidios['CARATULA_POLICIAL'].value_counts()"
   ]
  },
  {
   "cell_type": "markdown",
   "metadata": {},
   "source": [
    "### DATASET _`Homicidios (víctimas)`_"
   ]
  },
  {
   "cell_type": "code",
   "execution_count": 88,
   "metadata": {},
   "outputs": [
    {
     "name": "stdout",
     "output_type": "stream",
     "text": [
      "<class 'pandas.core.frame.DataFrame'>\n",
      "RangeIndex: 717 entries, 0 to 716\n",
      "Data columns (total 10 columns):\n",
      " #   Column               Non-Null Count  Dtype         \n",
      "---  ------               --------------  -----         \n",
      " 0   ID_hecho             717 non-null    object        \n",
      " 1   FECHA                717 non-null    datetime64[ns]\n",
      " 2   AAAA                 717 non-null    int64         \n",
      " 3   MM                   717 non-null    int64         \n",
      " 4   DD                   717 non-null    int64         \n",
      " 5   ROL                  706 non-null    object        \n",
      " 6   VICTIMA              708 non-null    object        \n",
      " 7   SEXO                 711 non-null    object        \n",
      " 8   EDAD                 664 non-null    float64       \n",
      " 9   FECHA_FALLECIMIENTO  649 non-null    object        \n",
      "dtypes: datetime64[ns](1), float64(1), int64(3), object(5)\n",
      "memory usage: 56.1+ KB\n"
     ]
    }
   ],
   "source": [
    "#Aplicamos la función info para visualizar #de columnnas, nombres de columnas y tipo de datos.\n",
    "victima_h.info()"
   ]
  },
  {
   "cell_type": "markdown",
   "metadata": {},
   "source": [
    "#### Procedemos a eliminar las columnas que no aportan información para el analisis"
   ]
  },
  {
   "cell_type": "code",
   "execution_count": 89,
   "metadata": {},
   "outputs": [],
   "source": [
    "victima_h.drop(columns=['AAAA', 'MM', 'DD', 'FECHA_FALLECIMIENTO'], inplace=True)\n",
    "\n",
    "# Agregamos la columna gravedad para diferenciar los homicidios de las lesiones\n",
    "victima_h['GRAVEDAD'] = 'FATAL'"
   ]
  },
  {
   "cell_type": "code",
   "execution_count": 90,
   "metadata": {},
   "outputs": [],
   "source": [
    "# Creamos una función para asignar el rango etario\n",
    "\n",
    "def asignar_rango_etario(edad):\n",
    "    rangos_etarios = {\n",
    "        (0, 17): \"1_ 0 a 17 años\",\n",
    "        (18, 29): \"2_ 18 a 29 años\",\n",
    "        (30, 39): \"3_ 30 a 39 años\",\n",
    "        (40, 49): \"4_ 40 a 49 años\",\n",
    "        (50, 59): \"5_ 50 a 59 años\",\n",
    "        (60, float('inf')): \"6_ 60 años o más\"\n",
    "    }\n",
    "\n",
    "    for rango, etiqueta in rangos_etarios.items():\n",
    "        if rango[0] <= edad <= rango[1]:\n",
    "            return etiqueta\n",
    "\n",
    "    return np.nan"
   ]
  },
  {
   "cell_type": "code",
   "execution_count": 91,
   "metadata": {},
   "outputs": [],
   "source": [
    "# Cambiamos los SD por nan\n",
    "victima_h.loc[victima_h['EDAD'] == 'SD', 'EDAD'] = np.nan\n",
    "victima_h.loc[victima_h['EDAD'] == 'sd', 'EDAD'] = np.nan"
   ]
  },
  {
   "cell_type": "code",
   "execution_count": 92,
   "metadata": {},
   "outputs": [],
   "source": [
    "# Cambiamos el tipo de dato de la columna EDAD\n",
    "victima_h['EDAD'] = victima_h['EDAD'].astype('float')"
   ]
  },
  {
   "cell_type": "code",
   "execution_count": 93,
   "metadata": {},
   "outputs": [
    {
     "name": "stdout",
     "output_type": "stream",
     "text": [
      "<class 'pandas.core.frame.DataFrame'>\n",
      "RangeIndex: 717 entries, 0 to 716\n",
      "Data columns (total 8 columns):\n",
      " #   Column        Non-Null Count  Dtype         \n",
      "---  ------        --------------  -----         \n",
      " 0   ID_hecho      717 non-null    object        \n",
      " 1   FECHA         717 non-null    datetime64[ns]\n",
      " 2   ROL           706 non-null    object        \n",
      " 3   VICTIMA       708 non-null    object        \n",
      " 4   SEXO          711 non-null    object        \n",
      " 5   EDAD          664 non-null    float64       \n",
      " 6   GRAVEDAD      717 non-null    object        \n",
      " 7   RANGO_ETARIO  664 non-null    object        \n",
      "dtypes: datetime64[ns](1), float64(1), object(6)\n",
      "memory usage: 44.9+ KB\n"
     ]
    }
   ],
   "source": [
    "# Aplicamos la funcion para asignar el rango etario\n",
    "victima_h['RANGO_ETARIO'] = victima_h['EDAD'].apply(lambda x: asignar_rango_etario(x))\n",
    "victima_h.info()"
   ]
  },
  {
   "cell_type": "code",
   "execution_count": 94,
   "metadata": {},
   "outputs": [
    {
     "data": {
      "text/plain": [
       "Index(['ID_HECHO', 'FECHA', 'ROL_VICTIMA', 'VEHICULO_VICTIMA', 'SEXO_VICTIMA',\n",
       "       'EDAD_VICTIMA', 'GRAVEDAD', 'RANGO_ETARIO'],\n",
       "      dtype='object')"
      ]
     },
     "execution_count": 94,
     "metadata": {},
     "output_type": "execute_result"
    }
   ],
   "source": [
    "# Cambiamos el nombre de las columnas  \n",
    "nuevos_nombres = {'ID_hecho':'ID_HECHO','ROL':'ROL_VICTIMA','VICTIMA':'VEHICULO_VICTIMA','SEXO':'SEXO_VICTIMA','EDAD':'EDAD_VICTIMA'}\n",
    "\n",
    "# Procedemos a reemplazar\n",
    "victima_h = victima_h.rename(columns=nuevos_nombres)\n",
    "victima_h.columns"
   ]
  },
  {
   "cell_type": "code",
   "execution_count": 95,
   "metadata": {},
   "outputs": [
    {
     "data": {
      "text/plain": [
       "CONDUCTOR               330\n",
       "PEATON                  267\n",
       "PASAJERO_ACOMPAÑANTE     80\n",
       "CICLISTA                 29\n",
       "Name: ROL_VICTIMA, dtype: int64"
      ]
     },
     "execution_count": 95,
     "metadata": {},
     "output_type": "execute_result"
    }
   ],
   "source": [
    "#Aplicamos counts, a la columna Rol Victima para visualizar cuantos datos tiene cada valor de esta columna.\n",
    "victima_h['ROL_VICTIMA'].value_counts()"
   ]
  },
  {
   "cell_type": "code",
   "execution_count": 96,
   "metadata": {},
   "outputs": [],
   "source": [
    "# Intercambiamos el valor 'PASAJERO_ACOMPAÑANTE' por 'PASAJERO' para unificar\n",
    "victima_h['ROL_VICTIMA'] = victima_h['ROL_VICTIMA'].replace('PASAJERO_ACOMPAÑANTE','PASAJERO')\n",
    "\n",
    "# Cambiamos el tipo de dato de la columna FECHA a datetime\n",
    "victima_h[\"FECHA\"]=pd.to_datetime(victima_h[\"FECHA\"], format='%y/%m/%d', errors='coerce').dt.date"
   ]
  },
  {
   "cell_type": "markdown",
   "metadata": {},
   "source": [
    "### DATASET _`Lesiones`_"
   ]
  },
  {
   "cell_type": "code",
   "execution_count": 97,
   "metadata": {},
   "outputs": [
    {
     "name": "stdout",
     "output_type": "stream",
     "text": [
      "<class 'pandas.core.frame.DataFrame'>\n",
      "RangeIndex: 23785 entries, 0 to 23784\n",
      "Data columns (total 27 columns):\n",
      " #   Column                 Non-Null Count  Dtype  \n",
      "---  ------                 --------------  -----  \n",
      " 0   id                     23785 non-null  object \n",
      " 1   n_victimas             23785 non-null  int64  \n",
      " 2   aaaa                   23785 non-null  int64  \n",
      " 3   mm                     23785 non-null  int64  \n",
      " 4   dd                     23785 non-null  int64  \n",
      " 5   fecha                  23785 non-null  object \n",
      " 6   hora                   23776 non-null  object \n",
      " 7   franja_hora            23776 non-null  float64\n",
      " 8   direccion_normalizada  12917 non-null  object \n",
      " 9   comuna                 22770 non-null  object \n",
      " 10  tipo_calle             12740 non-null  object \n",
      " 11  otra_direccion         5490 non-null   object \n",
      " 12  calle                  12867 non-null  object \n",
      " 13  altura                 12771 non-null  float64\n",
      " 14  cruce                  9407 non-null   object \n",
      " 15  geocodificacion_CABA   22533 non-null  object \n",
      " 16  longitud               22314 non-null  float64\n",
      " 17  latutid                22314 non-null  float64\n",
      " 18  victima                13052 non-null  object \n",
      " 19  acusado                8497 non-null   object \n",
      " 20  participantes          23785 non-null  object \n",
      " 21  moto                   15181 non-null  object \n",
      " 22  auto                   11149 non-null  object \n",
      " 23  transporte_publico     11891 non-null  object \n",
      " 24  camion                 10984 non-null  object \n",
      " 25  ciclista               12339 non-null  object \n",
      " 26  gravedad               646 non-null    object \n",
      "dtypes: float64(4), int64(4), object(19)\n",
      "memory usage: 4.9+ MB\n"
     ]
    }
   ],
   "source": [
    "#Aplicamos la función info para visualizar #de columnnas, nombres de columnas y tipo de datos.\n",
    "lesiones.info()\n"
   ]
  },
  {
   "cell_type": "code",
   "execution_count": 98,
   "metadata": {},
   "outputs": [],
   "source": [
    "#Procedemos a Eliminar las columnas que no suman al analisis\n",
    "lesiones.drop(columns=['aaaa', 'mm', 'dd','hora','direccion_normalizada',\n",
    "                          'calle','altura','cruce','participantes','moto',\n",
    "                          'auto','transporte_publico','camion','otra_direccion',\n",
    "                          'ciclista'], inplace=True)"
   ]
  },
  {
   "cell_type": "code",
   "execution_count": 99,
   "metadata": {},
   "outputs": [],
   "source": [
    "# Convertimos a mayusculas el nombre de las columnas \n",
    "lesiones.columns = lesiones.columns.str.upper()\n",
    "#y reemplazamos algunas con nueva etiqueta \n",
    "lesiones = lesiones.rename(columns={'ID':'ID_HECHO'})\n",
    "lesiones = lesiones.rename(columns={'FRANJA_HORA':'HORA'})\n",
    "lesiones = lesiones.rename(columns={'TIPO_CALLE':'TIPO_DE_CALLE'})\n",
    "lesiones = lesiones.rename(columns={'TIPO_CALLE':'TIPO_DE_CALLE'})\n",
    "lesiones = lesiones.rename(columns={'GEOCODIFICACION_CABA':'XY (CABA)'})\n",
    "lesiones = lesiones.rename(columns={'VICTIMA':'VEHICULO_VICTIMA'})\n",
    "lesiones = lesiones.rename(columns={'ACUSADO':'VEHICULO_ACUSADO'})\n",
    "lesiones = lesiones.rename(columns={'LATUTID':'LATITUD'})"
   ]
  },
  {
   "cell_type": "markdown",
   "metadata": {},
   "source": [
    "### Columna 'ID_HECHO'"
   ]
  },
  {
   "cell_type": "code",
   "execution_count": 100,
   "metadata": {},
   "outputs": [],
   "source": [
    "# Modificamos la composición de la columna ID_HECHO para asemejarla a la de homicidios\n",
    "lesiones['ID_HECHO'] = lesiones['ID_HECHO'].str.replace('LC-', '').str.strip()"
   ]
  },
  {
   "cell_type": "markdown",
   "metadata": {},
   "source": [
    "### Columna 'FECHA'"
   ]
  },
  {
   "cell_type": "code",
   "execution_count": 101,
   "metadata": {},
   "outputs": [],
   "source": [
    "# Hacemos cambios a la columna fecha\n",
    "lesiones['FECHA'].replace(\"'\",\"\", inplace=True)\n",
    "lesiones['FECHA'] = lesiones['FECHA'].astype('datetime64[ns]')\n",
    "\n",
    "# Cambiamos el formato de la fecha\n",
    "lesiones[\"FECHA\"]=pd.to_datetime(lesiones[\"FECHA\"], format='%y/%m/%d', errors='coerce').dt.date"
   ]
  },
  {
   "cell_type": "markdown",
   "metadata": {},
   "source": [
    "#### Columna 'COMUNA'"
   ]
  },
  {
   "cell_type": "code",
   "execution_count": 102,
   "metadata": {},
   "outputs": [
    {
     "data": {
      "text/plain": [
       "1                  2526\n",
       "15                 1908\n",
       "4                  1729\n",
       "3                  1718\n",
       "9                  1674\n",
       "14                 1581\n",
       "7                  1516\n",
       "12                 1440\n",
       "11                 1411\n",
       "13                 1355\n",
       "10                 1347\n",
       "5                  1226\n",
       "8                  1062\n",
       "6                   957\n",
       "2                   878\n",
       "No Especificada     442\n",
       "Name: COMUNA, dtype: int64"
      ]
     },
     "execution_count": 102,
     "metadata": {},
     "output_type": "execute_result"
    }
   ],
   "source": [
    "lesiones['COMUNA'].value_counts()"
   ]
  },
  {
   "cell_type": "code",
   "execution_count": 103,
   "metadata": {},
   "outputs": [],
   "source": [
    "# Remplazamos \"No especificada\" por nulos\n",
    "lesiones.loc[lesiones['COMUNA'] == 'No Especificada', 'COMUNA'] = np.nan"
   ]
  },
  {
   "cell_type": "markdown",
   "metadata": {},
   "source": [
    "#### Columna 'GRAVEDAD'"
   ]
  },
  {
   "cell_type": "code",
   "execution_count": 104,
   "metadata": {},
   "outputs": [
    {
     "data": {
      "text/plain": [
       "GRAVE    642\n",
       "FATAL      3\n",
       "grave      1\n",
       "Name: GRAVEDAD, dtype: int64"
      ]
     },
     "execution_count": 104,
     "metadata": {},
     "output_type": "execute_result"
    }
   ],
   "source": [
    "lesiones['GRAVEDAD'].value_counts() # Revisamos los valores de la columna gravedad"
   ]
  },
  {
   "cell_type": "code",
   "execution_count": 105,
   "metadata": {},
   "outputs": [],
   "source": [
    "lesiones['GRAVEDAD'] = lesiones['GRAVEDAD'].str.upper() # Pasamos a mayusculas la columna gravedad"
   ]
  },
  {
   "cell_type": "markdown",
   "metadata": {},
   "source": [
    "#### Conforme al diccionario proporcionado, los valores equivalentes a SD son en su mayoria de gravedad leve y teniendo en cuenta que en un principio convertimos los datos SD, pasamos los nulos a LEVE."
   ]
  },
  {
   "cell_type": "code",
   "execution_count": 106,
   "metadata": {},
   "outputs": [],
   "source": [
    "lesiones.loc[lesiones['GRAVEDAD'].isnull(), 'GRAVEDAD'] = 'LEVE'"
   ]
  },
  {
   "cell_type": "code",
   "execution_count": 107,
   "metadata": {},
   "outputs": [
    {
     "data": {
      "text/plain": [
       "Index(['ID_HECHO', 'N_VICTIMAS', 'FECHA', 'HORA', 'COMUNA', 'TIPO_DE_CALLE',\n",
       "       'XY (CABA)', 'LONGITUD', 'LATITUD', 'VEHICULO_VICTIMA',\n",
       "       'VEHICULO_ACUSADO', 'GRAVEDAD'],\n",
       "      dtype='object')"
      ]
     },
     "execution_count": 107,
     "metadata": {},
     "output_type": "execute_result"
    }
   ],
   "source": [
    "lesiones.columns"
   ]
  },
  {
   "cell_type": "markdown",
   "metadata": {},
   "source": [
    "#### Columna 'TIPO_DE_CALLE'"
   ]
  },
  {
   "cell_type": "code",
   "execution_count": 108,
   "metadata": {},
   "outputs": [
    {
     "data": {
      "text/plain": [
       "AVENIDA      6775\n",
       "CALLE        5383\n",
       "GRAL PAZ      538\n",
       "AUTOPISTA      44\n",
       "Name: TIPO_DE_CALLE, dtype: int64"
      ]
     },
     "execution_count": 108,
     "metadata": {},
     "output_type": "execute_result"
    }
   ],
   "source": [
    "lesiones['TIPO_DE_CALLE'].value_counts()"
   ]
  },
  {
   "cell_type": "code",
   "execution_count": 109,
   "metadata": {},
   "outputs": [],
   "source": [
    "lesiones['TIPO_DE_CALLE'].replace('GRAL PAZ', 'AVENIDA', inplace=True) # Reemplazamos GRAL PAZ por AVENIDA"
   ]
  },
  {
   "cell_type": "code",
   "execution_count": 110,
   "metadata": {},
   "outputs": [
    {
     "data": {
      "text/plain": [
       "AVENIDA      7313\n",
       "CALLE        5383\n",
       "AUTOPISTA      44\n",
       "Name: TIPO_DE_CALLE, dtype: int64"
      ]
     },
     "execution_count": 110,
     "metadata": {},
     "output_type": "execute_result"
    }
   ],
   "source": [
    "lesiones['TIPO_DE_CALLE'].value_counts() # Verificamos el contenido de la columna TIPO_DE_CALLE"
   ]
  },
  {
   "cell_type": "markdown",
   "metadata": {},
   "source": [
    "#### Columna 'GRAVEDAD'"
   ]
  },
  {
   "cell_type": "code",
   "execution_count": 111,
   "metadata": {},
   "outputs": [
    {
     "data": {
      "text/plain": [
       "LEVE     23139\n",
       "GRAVE      643\n",
       "FATAL        3\n",
       "Name: GRAVEDAD, dtype: int64"
      ]
     },
     "execution_count": 111,
     "metadata": {},
     "output_type": "execute_result"
    }
   ],
   "source": [
    "lesiones['GRAVEDAD'].value_counts() # Verificamos el contenido de la columna GRAVEDAD"
   ]
  },
  {
   "cell_type": "code",
   "execution_count": 112,
   "metadata": {},
   "outputs": [],
   "source": [
    "# Creamos una función que nos permita generar la columna CARATULA POLICIAL\n",
    "def generar_caratula(gravedad):\n",
    "    if gravedad == 'LEVE':\n",
    "        return 'LESIONES'\n",
    "    elif gravedad == 'GRAVE':\n",
    "        return 'LESIONES GRAVES'\n",
    "    elif gravedad == 'FATAL':\n",
    "        return 'HOMICIDIO CULPOSO'"
   ]
  },
  {
   "cell_type": "code",
   "execution_count": 113,
   "metadata": {},
   "outputs": [],
   "source": [
    "lesiones['CARATULA_POLICIAL'] = lesiones['GRAVEDAD'].apply(generar_caratula)"
   ]
  },
  {
   "cell_type": "code",
   "execution_count": 114,
   "metadata": {},
   "outputs": [
    {
     "data": {
      "text/plain": [
       "LESIONES             23139\n",
       "LESIONES GRAVES        643\n",
       "HOMICIDIO CULPOSO        3\n",
       "Name: CARATULA_POLICIAL, dtype: int64"
      ]
     },
     "execution_count": 114,
     "metadata": {},
     "output_type": "execute_result"
    }
   ],
   "source": [
    "lesiones['CARATULA_POLICIAL'].value_counts()"
   ]
  },
  {
   "cell_type": "markdown",
   "metadata": {},
   "source": [
    "### _`Lesiones (víctimas)`_"
   ]
  },
  {
   "cell_type": "code",
   "execution_count": 115,
   "metadata": {},
   "outputs": [
    {
     "data": {
      "text/plain": [
       "Index(['ID_HECHO', 'AAA', 'MM', 'DD', 'FECHA', 'VEHICULO_VICTIMA',\n",
       "       'SEXO_VICTIMA', 'EDAD_VICTIMA', 'GRAVEDAD'],\n",
       "      dtype='object')"
      ]
     },
     "execution_count": 115,
     "metadata": {},
     "output_type": "execute_result"
    }
   ],
   "source": [
    "# Pasamos las columnas a mayusculas\n",
    "victima_l.columns = victima_l.columns.str.upper()\n",
    "\n",
    "# Cambiamos nombres a las columnas para coincidir con el df_homicidios\n",
    "victima_l = victima_l.rename(columns={'ID HECHO':'ID_HECHO','FECHA ':'FECHA','SEXO':'SEXO_VICTIMA'})\n",
    "\n",
    "# Cambiamos el formato de la fecha\n",
    "victima_l[\"FECHA\"]=pd.to_datetime(victima_l[\"FECHA\"], format='%y/%m/%d', errors='coerce').dt.date\n",
    "\n",
    "victima_l.columns"
   ]
  },
  {
   "cell_type": "code",
   "execution_count": 116,
   "metadata": {},
   "outputs": [
    {
     "data": {
      "text/plain": [
       "Index(['ID_HECHO', 'FECHA', 'VEHICULO_VICTIMA', 'SEXO_VICTIMA', 'EDAD_VICTIMA',\n",
       "       'GRAVEDAD'],\n",
       "      dtype='object')"
      ]
     },
     "execution_count": 116,
     "metadata": {},
     "output_type": "execute_result"
    }
   ],
   "source": [
    "# Eliminamos las columnas que no se van a usar\n",
    "victima_l.drop(columns=['AAA', 'MM', 'DD'], inplace=True)\n",
    "\n",
    "# Columnas\n",
    "victima_l.columns"
   ]
  },
  {
   "cell_type": "code",
   "execution_count": 117,
   "metadata": {},
   "outputs": [],
   "source": [
    "# Creamos la columna ROL_VICTIMA con nulls\n",
    "victima_l['ROL_VICTIMA'] = np.nan\n",
    "\n",
    "# remplazar los nulos de la columna GRAVEDAD por \"LEVEMENTE HERIDO\"\n",
    "victima_l.loc[victima_l['GRAVEDAD'].isnull(), 'GRAVEDAD'] = 'LEVEMENTE HERIDO'"
   ]
  },
  {
   "cell_type": "code",
   "execution_count": 118,
   "metadata": {},
   "outputs": [],
   "source": [
    "# Rango Etario\n",
    "victima_l['EDAD_VICTIMA'] = victima_l['EDAD_VICTIMA'].astype('float')\n",
    "victima_l['RANGO_ETARIO'] = victima_l['EDAD_VICTIMA'].apply(lambda x: asignar_rango_etario(x))"
   ]
  },
  {
   "cell_type": "code",
   "execution_count": 119,
   "metadata": {},
   "outputs": [
    {
     "data": {
      "text/plain": [
       "Varon     16796\n",
       "Mujer      8246\n",
       "varon       226\n",
       "MUJER        62\n",
       "mujer        46\n",
       "Mujer         1\n",
       "Name: SEXO_VICTIMA, dtype: int64"
      ]
     },
     "execution_count": 119,
     "metadata": {},
     "output_type": "execute_result"
    }
   ],
   "source": [
    "victima_l['SEXO_VICTIMA'].value_counts()"
   ]
  },
  {
   "cell_type": "code",
   "execution_count": 120,
   "metadata": {},
   "outputs": [],
   "source": [
    "victima_l['SEXO_VICTIMA'] = victima_l['SEXO_VICTIMA'].str.upper() # Pasamos a mayusculas la columna 'SEXO_VICTIMA"
   ]
  },
  {
   "cell_type": "code",
   "execution_count": 121,
   "metadata": {},
   "outputs": [],
   "source": [
    "victima_l['SEXO_VICTIMA'] = victima_l['SEXO_VICTIMA'].str.strip() # Eliminamos los espacios en blanco"
   ]
  },
  {
   "cell_type": "code",
   "execution_count": 122,
   "metadata": {},
   "outputs": [],
   "source": [
    "victima_l.loc[victima_l['SEXO_VICTIMA'] == 'MUJER', 'SEXO_VICTIMA'] = 'FEMENINO'\n",
    "victima_l.loc[victima_l['SEXO_VICTIMA'] == 'VARON', 'SEXO_VICTIMA'] = 'MASCULINO'"
   ]
  },
  {
   "cell_type": "code",
   "execution_count": 123,
   "metadata": {},
   "outputs": [
    {
     "data": {
      "text/plain": [
       "array(['MASCULINO', nan, 'FEMENINO'], dtype=object)"
      ]
     },
     "execution_count": 123,
     "metadata": {},
     "output_type": "execute_result"
    }
   ],
   "source": [
    "victima_l['SEXO_VICTIMA'].unique()"
   ]
  },
  {
   "cell_type": "markdown",
   "metadata": {},
   "source": [
    "#### Columna 'ID_HECHO'"
   ]
  },
  {
   "cell_type": "code",
   "execution_count": 124,
   "metadata": {},
   "outputs": [],
   "source": [
    "# Modificamos la composición de la columna ID_HECHO para asemejarla a la de víctimas de accidentes fatales\n",
    "victima_l['ID_HECHO'] = victima_l['ID_HECHO'].str.replace('LC-', '').str.strip()"
   ]
  },
  {
   "cell_type": "markdown",
   "metadata": {},
   "source": [
    "#### Columna 'GRAVEDAD'"
   ]
  },
  {
   "cell_type": "code",
   "execution_count": 125,
   "metadata": {},
   "outputs": [
    {
     "data": {
      "text/plain": [
       "LEVEMENTE HERIDO    27068\n",
       "GRAVE                 536\n",
       "grave                   1\n",
       "Name: GRAVEDAD, dtype: int64"
      ]
     },
     "execution_count": 125,
     "metadata": {},
     "output_type": "execute_result"
    }
   ],
   "source": [
    "victima_l['GRAVEDAD'].value_counts()"
   ]
  },
  {
   "cell_type": "code",
   "execution_count": 126,
   "metadata": {},
   "outputs": [],
   "source": [
    "victima_l['GRAVEDAD'] = victima_l['GRAVEDAD'].str.upper() # Pasamos a mayusculas la columna gravedad"
   ]
  },
  {
   "cell_type": "code",
   "execution_count": 127,
   "metadata": {},
   "outputs": [],
   "source": [
    "victima_l['GRAVEDAD'] = victima_l['GRAVEDAD'].replace('LEVEMENTE HERIDO', 'LEVE') # Reemplazamos LEVEMENTE HERIDO por LEVE"
   ]
  },
  {
   "cell_type": "markdown",
   "metadata": {},
   "source": [
    "#### Revisamos las 2 primeras filas de nuestros datasets"
   ]
  },
  {
   "cell_type": "code",
   "execution_count": 128,
   "metadata": {},
   "outputs": [
    {
     "data": {
      "text/html": [
       "<div>\n",
       "<style scoped>\n",
       "    .dataframe tbody tr th:only-of-type {\n",
       "        vertical-align: middle;\n",
       "    }\n",
       "\n",
       "    .dataframe tbody tr th {\n",
       "        vertical-align: top;\n",
       "    }\n",
       "\n",
       "    .dataframe thead th {\n",
       "        text-align: right;\n",
       "    }\n",
       "</style>\n",
       "<table border=\"1\" class=\"dataframe\">\n",
       "  <thead>\n",
       "    <tr style=\"text-align: right;\">\n",
       "      <th></th>\n",
       "      <th>ID_HECHO</th>\n",
       "      <th>N_VICTIMAS</th>\n",
       "      <th>FECHA</th>\n",
       "      <th>HORA</th>\n",
       "      <th>TIPO_DE_CALLE</th>\n",
       "      <th>COMUNA</th>\n",
       "      <th>XY (CABA)</th>\n",
       "      <th>LONGITUD</th>\n",
       "      <th>LATITUD</th>\n",
       "      <th>VEHICULO_VICTIMA</th>\n",
       "      <th>VEHICULO_ACUSADO</th>\n",
       "      <th>GRAVEDAD</th>\n",
       "      <th>CARATULA_POLICIAL</th>\n",
       "    </tr>\n",
       "  </thead>\n",
       "  <tbody>\n",
       "    <tr>\n",
       "      <th>0</th>\n",
       "      <td>2016-0001</td>\n",
       "      <td>1</td>\n",
       "      <td>2016-01-01</td>\n",
       "      <td>4.0</td>\n",
       "      <td>AVENIDA</td>\n",
       "      <td>8.0</td>\n",
       "      <td>Point (98896.78238426 93532.43437792)</td>\n",
       "      <td>-58.475340</td>\n",
       "      <td>-34.687570</td>\n",
       "      <td>MOTO</td>\n",
       "      <td>AUTO</td>\n",
       "      <td>FATAL</td>\n",
       "      <td>HOMICIDIO CULPOSO</td>\n",
       "    </tr>\n",
       "    <tr>\n",
       "      <th>1</th>\n",
       "      <td>2016-0002</td>\n",
       "      <td>1</td>\n",
       "      <td>2016-01-02</td>\n",
       "      <td>1.0</td>\n",
       "      <td>AVENIDA</td>\n",
       "      <td>9.0</td>\n",
       "      <td>Point (95832.05571093 95505.41641999)</td>\n",
       "      <td>-58.508775</td>\n",
       "      <td>-34.669777</td>\n",
       "      <td>AUTO</td>\n",
       "      <td>PASAJEROS</td>\n",
       "      <td>FATAL</td>\n",
       "      <td>HOMICIDIO CULPOSO</td>\n",
       "    </tr>\n",
       "  </tbody>\n",
       "</table>\n",
       "</div>"
      ],
      "text/plain": [
       "    ID_HECHO  N_VICTIMAS       FECHA HORA TIPO_DE_CALLE COMUNA  \\\n",
       "0  2016-0001           1  2016-01-01  4.0       AVENIDA    8.0   \n",
       "1  2016-0002           1  2016-01-02  1.0       AVENIDA    9.0   \n",
       "\n",
       "                               XY (CABA)   LONGITUD    LATITUD  \\\n",
       "0  Point (98896.78238426 93532.43437792) -58.475340 -34.687570   \n",
       "1  Point (95832.05571093 95505.41641999) -58.508775 -34.669777   \n",
       "\n",
       "  VEHICULO_VICTIMA VEHICULO_ACUSADO GRAVEDAD  CARATULA_POLICIAL  \n",
       "0             MOTO             AUTO    FATAL  HOMICIDIO CULPOSO  \n",
       "1             AUTO        PASAJEROS    FATAL  HOMICIDIO CULPOSO  "
      ]
     },
     "execution_count": 128,
     "metadata": {},
     "output_type": "execute_result"
    }
   ],
   "source": [
    "homicidios.head(2)\n"
   ]
  },
  {
   "cell_type": "code",
   "execution_count": 129,
   "metadata": {},
   "outputs": [
    {
     "data": {
      "text/html": [
       "<div>\n",
       "<style scoped>\n",
       "    .dataframe tbody tr th:only-of-type {\n",
       "        vertical-align: middle;\n",
       "    }\n",
       "\n",
       "    .dataframe tbody tr th {\n",
       "        vertical-align: top;\n",
       "    }\n",
       "\n",
       "    .dataframe thead th {\n",
       "        text-align: right;\n",
       "    }\n",
       "</style>\n",
       "<table border=\"1\" class=\"dataframe\">\n",
       "  <thead>\n",
       "    <tr style=\"text-align: right;\">\n",
       "      <th></th>\n",
       "      <th>ID_HECHO</th>\n",
       "      <th>FECHA</th>\n",
       "      <th>ROL_VICTIMA</th>\n",
       "      <th>VEHICULO_VICTIMA</th>\n",
       "      <th>SEXO_VICTIMA</th>\n",
       "      <th>EDAD_VICTIMA</th>\n",
       "      <th>GRAVEDAD</th>\n",
       "      <th>RANGO_ETARIO</th>\n",
       "    </tr>\n",
       "  </thead>\n",
       "  <tbody>\n",
       "    <tr>\n",
       "      <th>0</th>\n",
       "      <td>2016-0001</td>\n",
       "      <td>2016-01-01</td>\n",
       "      <td>CONDUCTOR</td>\n",
       "      <td>MOTO</td>\n",
       "      <td>MASCULINO</td>\n",
       "      <td>19.0</td>\n",
       "      <td>FATAL</td>\n",
       "      <td>2_ 18 a 29 años</td>\n",
       "    </tr>\n",
       "    <tr>\n",
       "      <th>1</th>\n",
       "      <td>2016-0002</td>\n",
       "      <td>2016-01-02</td>\n",
       "      <td>CONDUCTOR</td>\n",
       "      <td>AUTO</td>\n",
       "      <td>MASCULINO</td>\n",
       "      <td>70.0</td>\n",
       "      <td>FATAL</td>\n",
       "      <td>6_ 60 años o más</td>\n",
       "    </tr>\n",
       "  </tbody>\n",
       "</table>\n",
       "</div>"
      ],
      "text/plain": [
       "    ID_HECHO       FECHA ROL_VICTIMA VEHICULO_VICTIMA SEXO_VICTIMA  \\\n",
       "0  2016-0001  2016-01-01   CONDUCTOR             MOTO    MASCULINO   \n",
       "1  2016-0002  2016-01-02   CONDUCTOR             AUTO    MASCULINO   \n",
       "\n",
       "   EDAD_VICTIMA GRAVEDAD      RANGO_ETARIO  \n",
       "0          19.0    FATAL   2_ 18 a 29 años  \n",
       "1          70.0    FATAL  6_ 60 años o más  "
      ]
     },
     "execution_count": 129,
     "metadata": {},
     "output_type": "execute_result"
    }
   ],
   "source": [
    "victima_h.head(2)"
   ]
  },
  {
   "cell_type": "code",
   "execution_count": 130,
   "metadata": {},
   "outputs": [
    {
     "data": {
      "text/html": [
       "<div>\n",
       "<style scoped>\n",
       "    .dataframe tbody tr th:only-of-type {\n",
       "        vertical-align: middle;\n",
       "    }\n",
       "\n",
       "    .dataframe tbody tr th {\n",
       "        vertical-align: top;\n",
       "    }\n",
       "\n",
       "    .dataframe thead th {\n",
       "        text-align: right;\n",
       "    }\n",
       "</style>\n",
       "<table border=\"1\" class=\"dataframe\">\n",
       "  <thead>\n",
       "    <tr style=\"text-align: right;\">\n",
       "      <th></th>\n",
       "      <th>ID_HECHO</th>\n",
       "      <th>N_VICTIMAS</th>\n",
       "      <th>FECHA</th>\n",
       "      <th>HORA</th>\n",
       "      <th>COMUNA</th>\n",
       "      <th>TIPO_DE_CALLE</th>\n",
       "      <th>XY (CABA)</th>\n",
       "      <th>LONGITUD</th>\n",
       "      <th>LATITUD</th>\n",
       "      <th>VEHICULO_VICTIMA</th>\n",
       "      <th>VEHICULO_ACUSADO</th>\n",
       "      <th>GRAVEDAD</th>\n",
       "      <th>CARATULA_POLICIAL</th>\n",
       "    </tr>\n",
       "  </thead>\n",
       "  <tbody>\n",
       "    <tr>\n",
       "      <th>0</th>\n",
       "      <td>2019-0000179</td>\n",
       "      <td>1</td>\n",
       "      <td>2019-01-01</td>\n",
       "      <td>9.0</td>\n",
       "      <td>14</td>\n",
       "      <td>NaN</td>\n",
       "      <td>Point (104991.46333918849995825 107720.9664748...</td>\n",
       "      <td>-58.408911</td>\n",
       "      <td>-34.559658</td>\n",
       "      <td>CICLISTA</td>\n",
       "      <td>NaN</td>\n",
       "      <td>LEVE</td>\n",
       "      <td>LESIONES</td>\n",
       "    </tr>\n",
       "    <tr>\n",
       "      <th>1</th>\n",
       "      <td>2019-0000053</td>\n",
       "      <td>1</td>\n",
       "      <td>2019-01-01</td>\n",
       "      <td>1.0</td>\n",
       "      <td>8</td>\n",
       "      <td>NaN</td>\n",
       "      <td>Point (101813.84712503915943671 95578.55507230...</td>\n",
       "      <td>-58.443510</td>\n",
       "      <td>-34.669125</td>\n",
       "      <td>AUTO</td>\n",
       "      <td>NaN</td>\n",
       "      <td>LEVE</td>\n",
       "      <td>LESIONES</td>\n",
       "    </tr>\n",
       "  </tbody>\n",
       "</table>\n",
       "</div>"
      ],
      "text/plain": [
       "       ID_HECHO  N_VICTIMAS       FECHA  HORA COMUNA TIPO_DE_CALLE  \\\n",
       "0  2019-0000179           1  2019-01-01   9.0     14           NaN   \n",
       "1  2019-0000053           1  2019-01-01   1.0      8           NaN   \n",
       "\n",
       "                                           XY (CABA)   LONGITUD    LATITUD  \\\n",
       "0  Point (104991.46333918849995825 107720.9664748... -58.408911 -34.559658   \n",
       "1  Point (101813.84712503915943671 95578.55507230... -58.443510 -34.669125   \n",
       "\n",
       "  VEHICULO_VICTIMA VEHICULO_ACUSADO GRAVEDAD CARATULA_POLICIAL  \n",
       "0         CICLISTA              NaN     LEVE          LESIONES  \n",
       "1             AUTO              NaN     LEVE          LESIONES  "
      ]
     },
     "execution_count": 130,
     "metadata": {},
     "output_type": "execute_result"
    }
   ],
   "source": [
    "lesiones.head(2)"
   ]
  },
  {
   "cell_type": "code",
   "execution_count": 131,
   "metadata": {},
   "outputs": [
    {
     "data": {
      "text/html": [
       "<div>\n",
       "<style scoped>\n",
       "    .dataframe tbody tr th:only-of-type {\n",
       "        vertical-align: middle;\n",
       "    }\n",
       "\n",
       "    .dataframe tbody tr th {\n",
       "        vertical-align: top;\n",
       "    }\n",
       "\n",
       "    .dataframe thead th {\n",
       "        text-align: right;\n",
       "    }\n",
       "</style>\n",
       "<table border=\"1\" class=\"dataframe\">\n",
       "  <thead>\n",
       "    <tr style=\"text-align: right;\">\n",
       "      <th></th>\n",
       "      <th>ID_HECHO</th>\n",
       "      <th>FECHA</th>\n",
       "      <th>VEHICULO_VICTIMA</th>\n",
       "      <th>SEXO_VICTIMA</th>\n",
       "      <th>EDAD_VICTIMA</th>\n",
       "      <th>GRAVEDAD</th>\n",
       "      <th>ROL_VICTIMA</th>\n",
       "      <th>RANGO_ETARIO</th>\n",
       "    </tr>\n",
       "  </thead>\n",
       "  <tbody>\n",
       "    <tr>\n",
       "      <th>0</th>\n",
       "      <td>2019-0000053</td>\n",
       "      <td>2019-01-01</td>\n",
       "      <td>NaN</td>\n",
       "      <td>MASCULINO</td>\n",
       "      <td>57.0</td>\n",
       "      <td>LEVE</td>\n",
       "      <td>NaN</td>\n",
       "      <td>5_ 50 a 59 años</td>\n",
       "    </tr>\n",
       "    <tr>\n",
       "      <th>1</th>\n",
       "      <td>2019-0000063</td>\n",
       "      <td>2019-01-01</td>\n",
       "      <td>NaN</td>\n",
       "      <td>NaN</td>\n",
       "      <td>NaN</td>\n",
       "      <td>LEVE</td>\n",
       "      <td>NaN</td>\n",
       "      <td>NaN</td>\n",
       "    </tr>\n",
       "  </tbody>\n",
       "</table>\n",
       "</div>"
      ],
      "text/plain": [
       "       ID_HECHO       FECHA VEHICULO_VICTIMA SEXO_VICTIMA  EDAD_VICTIMA  \\\n",
       "0  2019-0000053  2019-01-01              NaN    MASCULINO          57.0   \n",
       "1  2019-0000063  2019-01-01              NaN          NaN           NaN   \n",
       "\n",
       "  GRAVEDAD  ROL_VICTIMA     RANGO_ETARIO  \n",
       "0     LEVE          NaN  5_ 50 a 59 años  \n",
       "1     LEVE          NaN              NaN  "
      ]
     },
     "execution_count": 131,
     "metadata": {},
     "output_type": "execute_result"
    }
   ],
   "source": [
    "victima_l.head(2)"
   ]
  },
  {
   "cell_type": "markdown",
   "metadata": {},
   "source": [
    "#### Realizamos unas últimas modificaciones para unificar los datasets de Homicidios y Lesiones en un único dataset llamado 'accidentes', mientras que los datasets de víctimas de homicidios culposos y los de lesiones los unificaremos en un único dataset llamado 'victimas'"
   ]
  },
  {
   "cell_type": "markdown",
   "metadata": {},
   "source": [
    "### _`Accidentes`_"
   ]
  },
  {
   "cell_type": "code",
   "execution_count": 132,
   "metadata": {},
   "outputs": [],
   "source": [
    "homicidios['FECHA'] = pd.to_datetime(homicidios['FECHA'], errors='coerce')\n",
    "lesiones['FECHA'] = pd.to_datetime(lesiones['FECHA'], errors='coerce')"
   ]
  },
  {
   "cell_type": "code",
   "execution_count": 133,
   "metadata": {},
   "outputs": [],
   "source": [
    "accidentes = pd.concat([homicidios, lesiones], ignore_index=True)"
   ]
  },
  {
   "cell_type": "code",
   "execution_count": 134,
   "metadata": {},
   "outputs": [],
   "source": [
    "accidentes.to_excel('Datasets/accidentes.xlsx', index=False)"
   ]
  },
  {
   "cell_type": "code",
   "execution_count": 135,
   "metadata": {},
   "outputs": [
    {
     "name": "stdout",
     "output_type": "stream",
     "text": [
      "<class 'pandas.core.frame.DataFrame'>\n",
      "RangeIndex: 24481 entries, 0 to 24480\n",
      "Data columns (total 13 columns):\n",
      " #   Column             Non-Null Count  Dtype         \n",
      "---  ------             --------------  -----         \n",
      " 0   ID_HECHO           24481 non-null  object        \n",
      " 1   N_VICTIMAS         24481 non-null  int64         \n",
      " 2   FECHA              24481 non-null  datetime64[ns]\n",
      " 3   HORA               24471 non-null  float64       \n",
      " 4   TIPO_DE_CALLE      13436 non-null  object        \n",
      " 5   COMUNA             23024 non-null  object        \n",
      " 6   XY (CABA)          23215 non-null  object        \n",
      " 7   LONGITUD           22998 non-null  float64       \n",
      " 8   LATITUD            22998 non-null  float64       \n",
      " 9   VEHICULO_VICTIMA   13739 non-null  object        \n",
      " 10  VEHICULO_ACUSADO   9170 non-null   object        \n",
      " 11  GRAVEDAD           24481 non-null  object        \n",
      " 12  CARATULA_POLICIAL  24481 non-null  object        \n",
      "dtypes: datetime64[ns](1), float64(3), int64(1), object(8)\n",
      "memory usage: 2.4+ MB\n"
     ]
    }
   ],
   "source": [
    "accidentes.info()"
   ]
  },
  {
   "cell_type": "markdown",
   "metadata": {},
   "source": [
    "### _`Víctimas`_"
   ]
  },
  {
   "cell_type": "code",
   "execution_count": 136,
   "metadata": {},
   "outputs": [],
   "source": [
    "victima_h['FECHA'] = pd.to_datetime(victima_h['FECHA'], errors='coerce')\n",
    "victima_l['FECHA'] = pd.to_datetime(victima_l['FECHA'], errors='coerce')"
   ]
  },
  {
   "cell_type": "code",
   "execution_count": 137,
   "metadata": {},
   "outputs": [],
   "source": [
    "victimas = pd.concat([victima_h, victima_l], ignore_index=True)"
   ]
  },
  {
   "cell_type": "code",
   "execution_count": 138,
   "metadata": {},
   "outputs": [],
   "source": [
    "victimas.to_excel('Datasets/victimas.xlsx', index=False)"
   ]
  },
  {
   "cell_type": "code",
   "execution_count": 139,
   "metadata": {},
   "outputs": [
    {
     "name": "stdout",
     "output_type": "stream",
     "text": [
      "<class 'pandas.core.frame.DataFrame'>\n",
      "RangeIndex: 28322 entries, 0 to 28321\n",
      "Data columns (total 8 columns):\n",
      " #   Column            Non-Null Count  Dtype         \n",
      "---  ------            --------------  -----         \n",
      " 0   ID_HECHO          28322 non-null  object        \n",
      " 1   FECHA             28322 non-null  datetime64[ns]\n",
      " 2   ROL_VICTIMA       706 non-null    object        \n",
      " 3   VEHICULO_VICTIMA  12041 non-null  object        \n",
      " 4   SEXO_VICTIMA      26088 non-null  object        \n",
      " 5   EDAD_VICTIMA      23798 non-null  float64       \n",
      " 6   GRAVEDAD          28322 non-null  object        \n",
      " 7   RANGO_ETARIO      23798 non-null  object        \n",
      "dtypes: datetime64[ns](1), float64(1), object(6)\n",
      "memory usage: 1.7+ MB\n"
     ]
    }
   ],
   "source": [
    "victimas.info()"
   ]
  }
 ],
 "metadata": {
  "kernelspec": {
   "display_name": "Python 3",
   "language": "python",
   "name": "python3"
  },
  "language_info": {
   "codemirror_mode": {
    "name": "ipython",
    "version": 3
   },
   "file_extension": ".py",
   "mimetype": "text/x-python",
   "name": "python",
   "nbconvert_exporter": "python",
   "pygments_lexer": "ipython3",
   "version": "3.10.9"
  },
  "orig_nbformat": 4
 },
 "nbformat": 4,
 "nbformat_minor": 2
}
