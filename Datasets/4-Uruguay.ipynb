{
 "cells": [
  {
   "cell_type": "markdown",
   "metadata": {},
   "source": [
    "# **`ETL` de Datos obtenidos de accidentes fatales en Montevideo, Uruguay** "
   ]
  },
  {
   "cell_type": "markdown",
   "metadata": {},
   "source": [
    "### A los fines de realizar una comparativa de los accidentes fatales entre CABA y Montevideo (Uruguay), se obtuvieron datos del Catálogo de Datos Abiertos de Uruguay, los cuales se pueden descargar desde el siguiente [enlace](https://catalogodatos.gub.uy/dataset/unasev-fallecidos_siniestros_transito). Los mismos se encuentran en la carpeta [Datos_Uruguay](Datos_Uruguay).\n",
    "\n",
    "### Posteriormente editaremos el archivo [accidentes](accidentes.xlsx) para que sea igual al de Montevideo, y así poder usarlos con mayor comodidad en el Dashboard.\n"
   ]
  },
  {
   "cell_type": "markdown",
   "metadata": {},
   "source": [
    "### Importamos las librerías necesarias"
   ]
  },
  {
   "cell_type": "code",
   "execution_count": 10,
   "metadata": {},
   "outputs": [],
   "source": [
    "import pandas as pd\n",
    "import warnings\n",
    "warnings.simplefilter(\"ignore\", UserWarning)"
   ]
  },
  {
   "cell_type": "code",
   "execution_count": 2,
   "metadata": {},
   "outputs": [],
   "source": [
    "df_2016 = pd.read_excel('Datos_Uruguay/fallecidos-2016.xlsx')\n",
    "df_2017 = pd.read_excel('Datos_Uruguay/fallecidos-2017.xlsx')\n",
    "df_2018 = pd.read_excel('Datos_Uruguay/fallecidos-2018b.xlsx')\n",
    "df_2019 = pd.read_excel('Datos_Uruguay/fallecidos-nueva.xlsx')"
   ]
  },
  {
   "cell_type": "markdown",
   "metadata": {},
   "source": [
    "### Accidentes fatales en Montevideo, Uruguay durante el año 2016"
   ]
  },
  {
   "cell_type": "code",
   "execution_count": 3,
   "metadata": {},
   "outputs": [
    {
     "data": {
      "text/html": [
       "<div>\n",
       "<style scoped>\n",
       "    .dataframe tbody tr th:only-of-type {\n",
       "        vertical-align: middle;\n",
       "    }\n",
       "\n",
       "    .dataframe tbody tr th {\n",
       "        vertical-align: top;\n",
       "    }\n",
       "\n",
       "    .dataframe thead th {\n",
       "        text-align: right;\n",
       "    }\n",
       "</style>\n",
       "<table border=\"1\" class=\"dataframe\">\n",
       "  <thead>\n",
       "    <tr style=\"text-align: right;\">\n",
       "      <th></th>\n",
       "      <th>Fecha y hora</th>\n",
       "      <th>Departamento</th>\n",
       "      <th>Localidad</th>\n",
       "      <th>Jurisdiccion</th>\n",
       "      <th>Tipo de Siniestro</th>\n",
       "      <th>Vehiculo</th>\n",
       "      <th>Rol</th>\n",
       "      <th>Edad</th>\n",
       "      <th>Sexo</th>\n",
       "      <th>Fallecido a los Dias</th>\n",
       "      <th>Otro vehiculo</th>\n",
       "      <th>Lugar del Siniestro</th>\n",
       "      <th>X</th>\n",
       "      <th>Y</th>\n",
       "    </tr>\n",
       "  </thead>\n",
       "  <tbody>\n",
       "    <tr>\n",
       "      <th>0</th>\n",
       "      <td>2016-01-02 21:30:00</td>\n",
       "      <td>RIVERA</td>\n",
       "      <td>N/C</td>\n",
       "      <td>NACIONAL</td>\n",
       "      <td>ATROPELLO DE PEATÓN</td>\n",
       "      <td>PEATÓN</td>\n",
       "      <td>PEATÓN</td>\n",
       "      <td>83.0</td>\n",
       "      <td>M</td>\n",
       "      <td>0</td>\n",
       "      <td>CAMIONETA</td>\n",
       "      <td>RUTA 5 km. 481</td>\n",
       "      <td>634090.032621</td>\n",
       "      <td>6.565695e+06</td>\n",
       "    </tr>\n",
       "    <tr>\n",
       "      <th>1</th>\n",
       "      <td>2016-01-03 15:25:00</td>\n",
       "      <td>MALDONADO</td>\n",
       "      <td>ESTACION LAS FLORES</td>\n",
       "      <td>NACIONAL</td>\n",
       "      <td>DESPISTE</td>\n",
       "      <td>AUTO</td>\n",
       "      <td>CONDUCTOR</td>\n",
       "      <td>78.0</td>\n",
       "      <td>F</td>\n",
       "      <td>1</td>\n",
       "      <td>NaN</td>\n",
       "      <td>RUTA 9 km. 87</td>\n",
       "      <td>652988.993336</td>\n",
       "      <td>6.149297e+06</td>\n",
       "    </tr>\n",
       "  </tbody>\n",
       "</table>\n",
       "</div>"
      ],
      "text/plain": [
       "          Fecha y hora Departamento            Localidad Jurisdiccion   \\\n",
       "0  2016-01-02 21:30:00       RIVERA                  N/C      NACIONAL   \n",
       "1  2016-01-03 15:25:00    MALDONADO  ESTACION LAS FLORES      NACIONAL   \n",
       "\n",
       "     Tipo de Siniestro Vehiculo        Rol  Edad Sexo  Fallecido a los Dias  \\\n",
       "0  ATROPELLO DE PEATÓN   PEATÓN     PEATÓN  83.0    M                     0   \n",
       "1             DESPISTE     AUTO  CONDUCTOR  78.0    F                     1   \n",
       "\n",
       "  Otro vehiculo Lugar del Siniestro              X             Y  \n",
       "0     CAMIONETA      RUTA 5 km. 481  634090.032621  6.565695e+06  \n",
       "1           NaN       RUTA 9 km. 87  652988.993336  6.149297e+06  "
      ]
     },
     "execution_count": 3,
     "metadata": {},
     "output_type": "execute_result"
    }
   ],
   "source": [
    "df_2016.head(2)"
   ]
  },
  {
   "cell_type": "code",
   "execution_count": 4,
   "metadata": {},
   "outputs": [],
   "source": [
    "# Eliminamos las filas donde la Localidad no sea Montevideo\n",
    "df_2016 = df_2016[df_2016['Localidad'] == 'MONTEVIDEO']"
   ]
  },
  {
   "cell_type": "code",
   "execution_count": 5,
   "metadata": {},
   "outputs": [
    {
     "data": {
      "text/html": [
       "<div>\n",
       "<style scoped>\n",
       "    .dataframe tbody tr th:only-of-type {\n",
       "        vertical-align: middle;\n",
       "    }\n",
       "\n",
       "    .dataframe tbody tr th {\n",
       "        vertical-align: top;\n",
       "    }\n",
       "\n",
       "    .dataframe thead th {\n",
       "        text-align: right;\n",
       "    }\n",
       "</style>\n",
       "<table border=\"1\" class=\"dataframe\">\n",
       "  <thead>\n",
       "    <tr style=\"text-align: right;\">\n",
       "      <th></th>\n",
       "      <th>Fecha y hora</th>\n",
       "      <th>Departamento</th>\n",
       "      <th>Localidad</th>\n",
       "      <th>Jurisdiccion</th>\n",
       "      <th>Tipo de Siniestro</th>\n",
       "      <th>Vehiculo</th>\n",
       "      <th>Rol</th>\n",
       "      <th>Edad</th>\n",
       "      <th>Sexo</th>\n",
       "      <th>Fallecido a los Dias</th>\n",
       "      <th>Otro vehiculo</th>\n",
       "      <th>Lugar del Siniestro</th>\n",
       "      <th>X</th>\n",
       "      <th>Y</th>\n",
       "    </tr>\n",
       "  </thead>\n",
       "  <tbody>\n",
       "    <tr>\n",
       "      <th>8</th>\n",
       "      <td>2016-01-09 00:55:00</td>\n",
       "      <td>MONTEVIDEO</td>\n",
       "      <td>MONTEVIDEO</td>\n",
       "      <td>DEPARTAMENTAL</td>\n",
       "      <td>COLISIÓN ENTRE VEHÍCULOS</td>\n",
       "      <td>MOTO</td>\n",
       "      <td>PASAJERO</td>\n",
       "      <td>33.0</td>\n",
       "      <td>M</td>\n",
       "      <td>1</td>\n",
       "      <td>AUTO</td>\n",
       "      <td>MIGUELETE esq. DEFENSA</td>\n",
       "      <td>575455.372359</td>\n",
       "      <td>6.138581e+06</td>\n",
       "    </tr>\n",
       "    <tr>\n",
       "      <th>9</th>\n",
       "      <td>2016-01-09 02:25:00</td>\n",
       "      <td>MONTEVIDEO</td>\n",
       "      <td>MONTEVIDEO</td>\n",
       "      <td>DEPARTAMENTAL</td>\n",
       "      <td>COLISIÓN ENTRE VEHÍCULOS</td>\n",
       "      <td>MOTO</td>\n",
       "      <td>CONDUCTOR</td>\n",
       "      <td>58.0</td>\n",
       "      <td>M</td>\n",
       "      <td>0</td>\n",
       "      <td>OMNIBUS</td>\n",
       "      <td>AVENIDA BURGUES esq. MAXIMO GOMEZ</td>\n",
       "      <td>574698.261696</td>\n",
       "      <td>6.142780e+06</td>\n",
       "    </tr>\n",
       "  </tbody>\n",
       "</table>\n",
       "</div>"
      ],
      "text/plain": [
       "          Fecha y hora Departamento   Localidad  Jurisdiccion   \\\n",
       "8  2016-01-09 00:55:00   MONTEVIDEO  MONTEVIDEO  DEPARTAMENTAL   \n",
       "9  2016-01-09 02:25:00   MONTEVIDEO  MONTEVIDEO  DEPARTAMENTAL   \n",
       "\n",
       "          Tipo de Siniestro Vehiculo        Rol  Edad Sexo  \\\n",
       "8  COLISIÓN ENTRE VEHÍCULOS     MOTO   PASAJERO  33.0    M   \n",
       "9  COLISIÓN ENTRE VEHÍCULOS     MOTO  CONDUCTOR  58.0    M   \n",
       "\n",
       "   Fallecido a los Dias Otro vehiculo                Lugar del Siniestro  \\\n",
       "8                     1          AUTO             MIGUELETE esq. DEFENSA   \n",
       "9                     0       OMNIBUS  AVENIDA BURGUES esq. MAXIMO GOMEZ   \n",
       "\n",
       "               X             Y  \n",
       "8  575455.372359  6.138581e+06  \n",
       "9  574698.261696  6.142780e+06  "
      ]
     },
     "execution_count": 5,
     "metadata": {},
     "output_type": "execute_result"
    }
   ],
   "source": [
    "df_2016.head(2)"
   ]
  },
  {
   "cell_type": "code",
   "execution_count": 6,
   "metadata": {},
   "outputs": [],
   "source": [
    "# Eliminamos las columnas que no nos interesan\n",
    "df_2016.drop(columns=['Departamento','Jurisdiccion ','Tipo de Siniestro','Vehiculo','Rol','Edad','Sexo',\n",
    "                        'Fallecido a los Dias','Otro vehiculo','Lugar del Siniestro','X','Y'], inplace=True)"
   ]
  },
  {
   "cell_type": "code",
   "execution_count": 7,
   "metadata": {},
   "outputs": [
    {
     "data": {
      "text/html": [
       "<div>\n",
       "<style scoped>\n",
       "    .dataframe tbody tr th:only-of-type {\n",
       "        vertical-align: middle;\n",
       "    }\n",
       "\n",
       "    .dataframe tbody tr th {\n",
       "        vertical-align: top;\n",
       "    }\n",
       "\n",
       "    .dataframe thead th {\n",
       "        text-align: right;\n",
       "    }\n",
       "</style>\n",
       "<table border=\"1\" class=\"dataframe\">\n",
       "  <thead>\n",
       "    <tr style=\"text-align: right;\">\n",
       "      <th></th>\n",
       "      <th>Fecha y hora</th>\n",
       "      <th>Localidad</th>\n",
       "    </tr>\n",
       "  </thead>\n",
       "  <tbody>\n",
       "    <tr>\n",
       "      <th>8</th>\n",
       "      <td>2016-01-09 00:55:00</td>\n",
       "      <td>MONTEVIDEO</td>\n",
       "    </tr>\n",
       "    <tr>\n",
       "      <th>9</th>\n",
       "      <td>2016-01-09 02:25:00</td>\n",
       "      <td>MONTEVIDEO</td>\n",
       "    </tr>\n",
       "  </tbody>\n",
       "</table>\n",
       "</div>"
      ],
      "text/plain": [
       "          Fecha y hora   Localidad\n",
       "8  2016-01-09 00:55:00  MONTEVIDEO\n",
       "9  2016-01-09 02:25:00  MONTEVIDEO"
      ]
     },
     "execution_count": 7,
     "metadata": {},
     "output_type": "execute_result"
    }
   ],
   "source": [
    "df_2016.head(2)"
   ]
  },
  {
   "cell_type": "markdown",
   "metadata": {},
   "source": [
    "### Accidentes fatales en Montevideo, Uruguay durante el año 2017"
   ]
  },
  {
   "cell_type": "code",
   "execution_count": 8,
   "metadata": {},
   "outputs": [
    {
     "data": {
      "text/html": [
       "<div>\n",
       "<style scoped>\n",
       "    .dataframe tbody tr th:only-of-type {\n",
       "        vertical-align: middle;\n",
       "    }\n",
       "\n",
       "    .dataframe tbody tr th {\n",
       "        vertical-align: top;\n",
       "    }\n",
       "\n",
       "    .dataframe thead th {\n",
       "        text-align: right;\n",
       "    }\n",
       "</style>\n",
       "<table border=\"1\" class=\"dataframe\">\n",
       "  <thead>\n",
       "    <tr style=\"text-align: right;\">\n",
       "      <th></th>\n",
       "      <th>Fecha y hora</th>\n",
       "      <th>Departamento</th>\n",
       "      <th>Localidad</th>\n",
       "      <th>Jurisdiccion</th>\n",
       "      <th>Tipo de Siniestro</th>\n",
       "      <th>Vehiculo</th>\n",
       "      <th>Rol</th>\n",
       "      <th>Edad</th>\n",
       "      <th>Sexo</th>\n",
       "      <th>Fallecido a los Dias</th>\n",
       "      <th>Otro vehiculo</th>\n",
       "      <th>Lugar del Siniestro</th>\n",
       "      <th>X</th>\n",
       "      <th>Y</th>\n",
       "    </tr>\n",
       "  </thead>\n",
       "  <tbody>\n",
       "    <tr>\n",
       "      <th>0</th>\n",
       "      <td>2017-01-01 05:50:00</td>\n",
       "      <td>MONTEVIDEO</td>\n",
       "      <td>MONTEVIDEO</td>\n",
       "      <td>NACIONAL</td>\n",
       "      <td>DESPISTE</td>\n",
       "      <td>MOTO</td>\n",
       "      <td>CONDUCTOR</td>\n",
       "      <td>39.0</td>\n",
       "      <td>M</td>\n",
       "      <td>0</td>\n",
       "      <td>NaN</td>\n",
       "      <td>RAMBLA VEINTICINCO DE AGOSTO DE 1825 esq. JUAN...</td>\n",
       "      <td>572623.8628</td>\n",
       "      <td>6137495.0568</td>\n",
       "    </tr>\n",
       "    <tr>\n",
       "      <th>1</th>\n",
       "      <td>2017-01-02 07:50:00</td>\n",
       "      <td>ROCHA</td>\n",
       "      <td>ROCHA</td>\n",
       "      <td>NACIONAL</td>\n",
       "      <td>DESPISTE</td>\n",
       "      <td>AUTO</td>\n",
       "      <td>CONDUCTOR</td>\n",
       "      <td>21.0</td>\n",
       "      <td>M</td>\n",
       "      <td>0</td>\n",
       "      <td>NaN</td>\n",
       "      <td>RUTA 9 KM 18,000</td>\n",
       "      <td>730559.66</td>\n",
       "      <td>6164320.54</td>\n",
       "    </tr>\n",
       "  </tbody>\n",
       "</table>\n",
       "</div>"
      ],
      "text/plain": [
       "          Fecha y hora Departamento   Localidad Jurisdiccion   \\\n",
       "0  2017-01-01 05:50:00   MONTEVIDEO  MONTEVIDEO      NACIONAL   \n",
       "1  2017-01-02 07:50:00        ROCHA       ROCHA      NACIONAL   \n",
       "\n",
       "  Tipo de Siniestro Vehiculo        Rol  Edad Sexo  Fallecido a los Dias  \\\n",
       "0          DESPISTE     MOTO  CONDUCTOR  39.0    M                     0   \n",
       "1          DESPISTE     AUTO  CONDUCTOR  21.0    M                     0   \n",
       "\n",
       "  Otro vehiculo                                Lugar del Siniestro  \\\n",
       "0           NaN  RAMBLA VEINTICINCO DE AGOSTO DE 1825 esq. JUAN...   \n",
       "1           NaN                                   RUTA 9 KM 18,000   \n",
       "\n",
       "             X             Y  \n",
       "0  572623.8628  6137495.0568  \n",
       "1    730559.66    6164320.54  "
      ]
     },
     "execution_count": 8,
     "metadata": {},
     "output_type": "execute_result"
    }
   ],
   "source": [
    "df_2017.head(2)"
   ]
  },
  {
   "cell_type": "code",
   "execution_count": 9,
   "metadata": {},
   "outputs": [],
   "source": [
    "# Eliminamos las filas donde la Localidad no sea Montevideo\n",
    "df_2017 = df_2017[df_2017['Localidad'] == 'MONTEVIDEO']"
   ]
  },
  {
   "cell_type": "code",
   "execution_count": 10,
   "metadata": {},
   "outputs": [
    {
     "data": {
      "text/html": [
       "<div>\n",
       "<style scoped>\n",
       "    .dataframe tbody tr th:only-of-type {\n",
       "        vertical-align: middle;\n",
       "    }\n",
       "\n",
       "    .dataframe tbody tr th {\n",
       "        vertical-align: top;\n",
       "    }\n",
       "\n",
       "    .dataframe thead th {\n",
       "        text-align: right;\n",
       "    }\n",
       "</style>\n",
       "<table border=\"1\" class=\"dataframe\">\n",
       "  <thead>\n",
       "    <tr style=\"text-align: right;\">\n",
       "      <th></th>\n",
       "      <th>Fecha y hora</th>\n",
       "      <th>Departamento</th>\n",
       "      <th>Localidad</th>\n",
       "      <th>Jurisdiccion</th>\n",
       "      <th>Tipo de Siniestro</th>\n",
       "      <th>Vehiculo</th>\n",
       "      <th>Rol</th>\n",
       "      <th>Edad</th>\n",
       "      <th>Sexo</th>\n",
       "      <th>Fallecido a los Dias</th>\n",
       "      <th>Otro vehiculo</th>\n",
       "      <th>Lugar del Siniestro</th>\n",
       "      <th>X</th>\n",
       "      <th>Y</th>\n",
       "    </tr>\n",
       "  </thead>\n",
       "  <tbody>\n",
       "    <tr>\n",
       "      <th>0</th>\n",
       "      <td>2017-01-01 05:50:00</td>\n",
       "      <td>MONTEVIDEO</td>\n",
       "      <td>MONTEVIDEO</td>\n",
       "      <td>NACIONAL</td>\n",
       "      <td>DESPISTE</td>\n",
       "      <td>MOTO</td>\n",
       "      <td>CONDUCTOR</td>\n",
       "      <td>39.0</td>\n",
       "      <td>M</td>\n",
       "      <td>0</td>\n",
       "      <td>NaN</td>\n",
       "      <td>RAMBLA VEINTICINCO DE AGOSTO DE 1825 esq. JUAN...</td>\n",
       "      <td>572623.8628</td>\n",
       "      <td>6137495.0568</td>\n",
       "    </tr>\n",
       "    <tr>\n",
       "      <th>2</th>\n",
       "      <td>2017-01-02 07:10:00</td>\n",
       "      <td>MONTEVIDEO</td>\n",
       "      <td>MONTEVIDEO</td>\n",
       "      <td>DEPARTAMENTAL</td>\n",
       "      <td>ATROPELLO DE PEATÓN</td>\n",
       "      <td>PEATÓN</td>\n",
       "      <td>PEATÓN</td>\n",
       "      <td>62.0</td>\n",
       "      <td>F</td>\n",
       "      <td>0</td>\n",
       "      <td>OMNIBUS</td>\n",
       "      <td>EDUARDO VICTOR HAEDO Esq. DOCTOR MARIO CASSINONI</td>\n",
       "      <td>576185.9833</td>\n",
       "      <td>6138222.2904</td>\n",
       "    </tr>\n",
       "  </tbody>\n",
       "</table>\n",
       "</div>"
      ],
      "text/plain": [
       "          Fecha y hora Departamento   Localidad  Jurisdiccion   \\\n",
       "0  2017-01-01 05:50:00   MONTEVIDEO  MONTEVIDEO       NACIONAL   \n",
       "2  2017-01-02 07:10:00   MONTEVIDEO  MONTEVIDEO  DEPARTAMENTAL   \n",
       "\n",
       "     Tipo de Siniestro Vehiculo        Rol  Edad Sexo  Fallecido a los Dias  \\\n",
       "0             DESPISTE     MOTO  CONDUCTOR  39.0    M                     0   \n",
       "2  ATROPELLO DE PEATÓN   PEATÓN     PEATÓN  62.0    F                     0   \n",
       "\n",
       "  Otro vehiculo                                Lugar del Siniestro  \\\n",
       "0           NaN  RAMBLA VEINTICINCO DE AGOSTO DE 1825 esq. JUAN...   \n",
       "2       OMNIBUS   EDUARDO VICTOR HAEDO Esq. DOCTOR MARIO CASSINONI   \n",
       "\n",
       "             X             Y  \n",
       "0  572623.8628  6137495.0568  \n",
       "2  576185.9833  6138222.2904  "
      ]
     },
     "execution_count": 10,
     "metadata": {},
     "output_type": "execute_result"
    }
   ],
   "source": [
    "df_2017.head(2)"
   ]
  },
  {
   "cell_type": "code",
   "execution_count": 11,
   "metadata": {},
   "outputs": [],
   "source": [
    "# Eliminamos las columnas que no nos interesan\n",
    "df_2017.drop(columns=['Departamento','Jurisdiccion ','Tipo de Siniestro','Vehiculo','Rol','Edad','Sexo',\n",
    "                        'Fallecido a los Dias','Otro vehiculo','Lugar del Siniestro','X','Y'], inplace=True)"
   ]
  },
  {
   "cell_type": "code",
   "execution_count": 12,
   "metadata": {},
   "outputs": [
    {
     "data": {
      "text/html": [
       "<div>\n",
       "<style scoped>\n",
       "    .dataframe tbody tr th:only-of-type {\n",
       "        vertical-align: middle;\n",
       "    }\n",
       "\n",
       "    .dataframe tbody tr th {\n",
       "        vertical-align: top;\n",
       "    }\n",
       "\n",
       "    .dataframe thead th {\n",
       "        text-align: right;\n",
       "    }\n",
       "</style>\n",
       "<table border=\"1\" class=\"dataframe\">\n",
       "  <thead>\n",
       "    <tr style=\"text-align: right;\">\n",
       "      <th></th>\n",
       "      <th>Fecha y hora</th>\n",
       "      <th>Localidad</th>\n",
       "    </tr>\n",
       "  </thead>\n",
       "  <tbody>\n",
       "    <tr>\n",
       "      <th>0</th>\n",
       "      <td>2017-01-01 05:50:00</td>\n",
       "      <td>MONTEVIDEO</td>\n",
       "    </tr>\n",
       "    <tr>\n",
       "      <th>2</th>\n",
       "      <td>2017-01-02 07:10:00</td>\n",
       "      <td>MONTEVIDEO</td>\n",
       "    </tr>\n",
       "  </tbody>\n",
       "</table>\n",
       "</div>"
      ],
      "text/plain": [
       "          Fecha y hora   Localidad\n",
       "0  2017-01-01 05:50:00  MONTEVIDEO\n",
       "2  2017-01-02 07:10:00  MONTEVIDEO"
      ]
     },
     "execution_count": 12,
     "metadata": {},
     "output_type": "execute_result"
    }
   ],
   "source": [
    "df_2017.head(2)"
   ]
  },
  {
   "cell_type": "markdown",
   "metadata": {},
   "source": [
    "### Accidentes fatales en Montevideo, Uruguay durante el año 2018"
   ]
  },
  {
   "cell_type": "code",
   "execution_count": 13,
   "metadata": {},
   "outputs": [
    {
     "data": {
      "text/html": [
       "<div>\n",
       "<style scoped>\n",
       "    .dataframe tbody tr th:only-of-type {\n",
       "        vertical-align: middle;\n",
       "    }\n",
       "\n",
       "    .dataframe tbody tr th {\n",
       "        vertical-align: top;\n",
       "    }\n",
       "\n",
       "    .dataframe thead th {\n",
       "        text-align: right;\n",
       "    }\n",
       "</style>\n",
       "<table border=\"1\" class=\"dataframe\">\n",
       "  <thead>\n",
       "    <tr style=\"text-align: right;\">\n",
       "      <th></th>\n",
       "      <th>Fecha y hora</th>\n",
       "      <th>Departamento</th>\n",
       "      <th>Localidad</th>\n",
       "      <th>Jurisdiccion</th>\n",
       "      <th>Tipo de Siniestro</th>\n",
       "      <th>Vehiculo</th>\n",
       "      <th>Rol</th>\n",
       "      <th>Edad</th>\n",
       "      <th>Sexo</th>\n",
       "      <th>Fallecido a los Dias</th>\n",
       "      <th>Otro vehiculo</th>\n",
       "      <th>Lugar del Siniestro</th>\n",
       "      <th>X</th>\n",
       "      <th>Y</th>\n",
       "    </tr>\n",
       "  </thead>\n",
       "  <tbody>\n",
       "    <tr>\n",
       "      <th>0</th>\n",
       "      <td>2018-01-02 21:00:00</td>\n",
       "      <td>MONTEVIDEO</td>\n",
       "      <td>MONTEVIDEO</td>\n",
       "      <td>DEPARTAMENTAL</td>\n",
       "      <td>COLISIÓN ENTRE VEHÍCULOS</td>\n",
       "      <td>MOTO</td>\n",
       "      <td>CONDUCTOR</td>\n",
       "      <td>59.0</td>\n",
       "      <td>M</td>\n",
       "      <td>6</td>\n",
       "      <td>OMNIBUS</td>\n",
       "      <td>AVENIDA GENERAL EUGENIO GARZON ESQ.ISLAS CANARIAS</td>\n",
       "      <td>571142.1911</td>\n",
       "      <td>6.144079e+06</td>\n",
       "    </tr>\n",
       "    <tr>\n",
       "      <th>1</th>\n",
       "      <td>2018-01-03 04:53:00</td>\n",
       "      <td>MALDONADO</td>\n",
       "      <td>SAN CARLOS</td>\n",
       "      <td>DEPARTAMENTAL</td>\n",
       "      <td>COLISIÓN ENTRE VEHÍCULOS</td>\n",
       "      <td>MOTO</td>\n",
       "      <td>CONDUCTOR</td>\n",
       "      <td>20.0</td>\n",
       "      <td>M</td>\n",
       "      <td>0</td>\n",
       "      <td>CAMION</td>\n",
       "      <td>JACINTO MARIA ALVARIZA ESQ. TREINTA Y TRES</td>\n",
       "      <td>690204.0954</td>\n",
       "      <td>6.148101e+06</td>\n",
       "    </tr>\n",
       "  </tbody>\n",
       "</table>\n",
       "</div>"
      ],
      "text/plain": [
       "          Fecha y hora Departamento   Localidad  Jurisdiccion   \\\n",
       "0  2018-01-02 21:00:00   MONTEVIDEO  MONTEVIDEO  DEPARTAMENTAL   \n",
       "1  2018-01-03 04:53:00    MALDONADO  SAN CARLOS  DEPARTAMENTAL   \n",
       "\n",
       "          Tipo de Siniestro Vehiculo        Rol  Edad Sexo  \\\n",
       "0  COLISIÓN ENTRE VEHÍCULOS     MOTO  CONDUCTOR  59.0    M   \n",
       "1  COLISIÓN ENTRE VEHÍCULOS     MOTO  CONDUCTOR  20.0    M   \n",
       "\n",
       "   Fallecido a los Dias Otro vehiculo  \\\n",
       "0                     6       OMNIBUS   \n",
       "1                     0        CAMION   \n",
       "\n",
       "                                 Lugar del Siniestro            X  \\\n",
       "0  AVENIDA GENERAL EUGENIO GARZON ESQ.ISLAS CANARIAS  571142.1911   \n",
       "1         JACINTO MARIA ALVARIZA ESQ. TREINTA Y TRES  690204.0954   \n",
       "\n",
       "              Y  \n",
       "0  6.144079e+06  \n",
       "1  6.148101e+06  "
      ]
     },
     "execution_count": 13,
     "metadata": {},
     "output_type": "execute_result"
    }
   ],
   "source": [
    "df_2018.head(2)"
   ]
  },
  {
   "cell_type": "code",
   "execution_count": 14,
   "metadata": {},
   "outputs": [],
   "source": [
    "# Eliminamos las filas donde la Localidad no sea Montevideo\n",
    "df_2018 = df_2018[df_2018['Localidad'] == 'MONTEVIDEO']"
   ]
  },
  {
   "cell_type": "code",
   "execution_count": 15,
   "metadata": {},
   "outputs": [
    {
     "data": {
      "text/html": [
       "<div>\n",
       "<style scoped>\n",
       "    .dataframe tbody tr th:only-of-type {\n",
       "        vertical-align: middle;\n",
       "    }\n",
       "\n",
       "    .dataframe tbody tr th {\n",
       "        vertical-align: top;\n",
       "    }\n",
       "\n",
       "    .dataframe thead th {\n",
       "        text-align: right;\n",
       "    }\n",
       "</style>\n",
       "<table border=\"1\" class=\"dataframe\">\n",
       "  <thead>\n",
       "    <tr style=\"text-align: right;\">\n",
       "      <th></th>\n",
       "      <th>Fecha y hora</th>\n",
       "      <th>Departamento</th>\n",
       "      <th>Localidad</th>\n",
       "      <th>Jurisdiccion</th>\n",
       "      <th>Tipo de Siniestro</th>\n",
       "      <th>Vehiculo</th>\n",
       "      <th>Rol</th>\n",
       "      <th>Edad</th>\n",
       "      <th>Sexo</th>\n",
       "      <th>Fallecido a los Dias</th>\n",
       "      <th>Otro vehiculo</th>\n",
       "      <th>Lugar del Siniestro</th>\n",
       "      <th>X</th>\n",
       "      <th>Y</th>\n",
       "    </tr>\n",
       "  </thead>\n",
       "  <tbody>\n",
       "    <tr>\n",
       "      <th>0</th>\n",
       "      <td>2018-01-02 21:00:00</td>\n",
       "      <td>MONTEVIDEO</td>\n",
       "      <td>MONTEVIDEO</td>\n",
       "      <td>DEPARTAMENTAL</td>\n",
       "      <td>COLISIÓN ENTRE VEHÍCULOS</td>\n",
       "      <td>MOTO</td>\n",
       "      <td>CONDUCTOR</td>\n",
       "      <td>59.0</td>\n",
       "      <td>M</td>\n",
       "      <td>6</td>\n",
       "      <td>OMNIBUS</td>\n",
       "      <td>AVENIDA GENERAL EUGENIO GARZON ESQ.ISLAS CANARIAS</td>\n",
       "      <td>571142.1911</td>\n",
       "      <td>6.144079e+06</td>\n",
       "    </tr>\n",
       "    <tr>\n",
       "      <th>2</th>\n",
       "      <td>2018-01-03 08:30:00</td>\n",
       "      <td>MONTEVIDEO</td>\n",
       "      <td>MONTEVIDEO</td>\n",
       "      <td>NACIONAL</td>\n",
       "      <td>COLISIÓN ENTRE VEHÍCULOS</td>\n",
       "      <td>MOTO</td>\n",
       "      <td>CONDUCTOR</td>\n",
       "      <td>28.0</td>\n",
       "      <td>M</td>\n",
       "      <td>0</td>\n",
       "      <td>CAMION</td>\n",
       "      <td>RUTA 102 KM 28,000</td>\n",
       "      <td>585614.7100</td>\n",
       "      <td>6.149073e+06</td>\n",
       "    </tr>\n",
       "  </tbody>\n",
       "</table>\n",
       "</div>"
      ],
      "text/plain": [
       "          Fecha y hora Departamento   Localidad  Jurisdiccion   \\\n",
       "0  2018-01-02 21:00:00   MONTEVIDEO  MONTEVIDEO  DEPARTAMENTAL   \n",
       "2  2018-01-03 08:30:00   MONTEVIDEO  MONTEVIDEO       NACIONAL   \n",
       "\n",
       "          Tipo de Siniestro Vehiculo        Rol  Edad Sexo  \\\n",
       "0  COLISIÓN ENTRE VEHÍCULOS     MOTO  CONDUCTOR  59.0    M   \n",
       "2  COLISIÓN ENTRE VEHÍCULOS     MOTO  CONDUCTOR  28.0    M   \n",
       "\n",
       "   Fallecido a los Dias Otro vehiculo  \\\n",
       "0                     6       OMNIBUS   \n",
       "2                     0        CAMION   \n",
       "\n",
       "                                 Lugar del Siniestro            X  \\\n",
       "0  AVENIDA GENERAL EUGENIO GARZON ESQ.ISLAS CANARIAS  571142.1911   \n",
       "2                                 RUTA 102 KM 28,000  585614.7100   \n",
       "\n",
       "              Y  \n",
       "0  6.144079e+06  \n",
       "2  6.149073e+06  "
      ]
     },
     "execution_count": 15,
     "metadata": {},
     "output_type": "execute_result"
    }
   ],
   "source": [
    "df_2018.head(2)"
   ]
  },
  {
   "cell_type": "code",
   "execution_count": 16,
   "metadata": {},
   "outputs": [],
   "source": [
    "# Eliminamos las columnas que no nos interesan\n",
    "df_2018.drop(columns=['Departamento','Jurisdiccion ','Tipo de Siniestro','Vehiculo','Rol','Edad','Sexo',\n",
    "                        'Fallecido a los Dias','Otro vehiculo','Lugar del Siniestro','X','Y'], inplace=True)"
   ]
  },
  {
   "cell_type": "code",
   "execution_count": 17,
   "metadata": {},
   "outputs": [
    {
     "data": {
      "text/html": [
       "<div>\n",
       "<style scoped>\n",
       "    .dataframe tbody tr th:only-of-type {\n",
       "        vertical-align: middle;\n",
       "    }\n",
       "\n",
       "    .dataframe tbody tr th {\n",
       "        vertical-align: top;\n",
       "    }\n",
       "\n",
       "    .dataframe thead th {\n",
       "        text-align: right;\n",
       "    }\n",
       "</style>\n",
       "<table border=\"1\" class=\"dataframe\">\n",
       "  <thead>\n",
       "    <tr style=\"text-align: right;\">\n",
       "      <th></th>\n",
       "      <th>Fecha y hora</th>\n",
       "      <th>Localidad</th>\n",
       "    </tr>\n",
       "  </thead>\n",
       "  <tbody>\n",
       "    <tr>\n",
       "      <th>0</th>\n",
       "      <td>2018-01-02 21:00:00</td>\n",
       "      <td>MONTEVIDEO</td>\n",
       "    </tr>\n",
       "    <tr>\n",
       "      <th>2</th>\n",
       "      <td>2018-01-03 08:30:00</td>\n",
       "      <td>MONTEVIDEO</td>\n",
       "    </tr>\n",
       "  </tbody>\n",
       "</table>\n",
       "</div>"
      ],
      "text/plain": [
       "          Fecha y hora   Localidad\n",
       "0  2018-01-02 21:00:00  MONTEVIDEO\n",
       "2  2018-01-03 08:30:00  MONTEVIDEO"
      ]
     },
     "execution_count": 17,
     "metadata": {},
     "output_type": "execute_result"
    }
   ],
   "source": [
    "df_2018.head(2)"
   ]
  },
  {
   "cell_type": "markdown",
   "metadata": {},
   "source": [
    "### Accidentes fatales en Montevideo, Uruguay durante el año 2019"
   ]
  },
  {
   "cell_type": "code",
   "execution_count": 18,
   "metadata": {},
   "outputs": [
    {
     "data": {
      "text/html": [
       "<div>\n",
       "<style scoped>\n",
       "    .dataframe tbody tr th:only-of-type {\n",
       "        vertical-align: middle;\n",
       "    }\n",
       "\n",
       "    .dataframe tbody tr th {\n",
       "        vertical-align: top;\n",
       "    }\n",
       "\n",
       "    .dataframe thead th {\n",
       "        text-align: right;\n",
       "    }\n",
       "</style>\n",
       "<table border=\"1\" class=\"dataframe\">\n",
       "  <thead>\n",
       "    <tr style=\"text-align: right;\">\n",
       "      <th></th>\n",
       "      <th>Fechayhora</th>\n",
       "      <th>Departamento</th>\n",
       "      <th>Localidad</th>\n",
       "      <th>Jurisdiccion</th>\n",
       "      <th>TipodeSiniestro</th>\n",
       "      <th>Vehiculo</th>\n",
       "      <th>Rol</th>\n",
       "      <th>Edad</th>\n",
       "      <th>Sexo</th>\n",
       "      <th>FallecidoalosDias</th>\n",
       "      <th>Otrovehiculo</th>\n",
       "      <th>LugardelSiniestro</th>\n",
       "      <th>X</th>\n",
       "      <th>Y</th>\n",
       "    </tr>\n",
       "  </thead>\n",
       "  <tbody>\n",
       "    <tr>\n",
       "      <th>0</th>\n",
       "      <td>2019-01-02 13:30:00</td>\n",
       "      <td>CANELONES</td>\n",
       "      <td>PARQUE DEL PLATA</td>\n",
       "      <td>NACIONAL</td>\n",
       "      <td>ATROPELLO DE PEATÓN</td>\n",
       "      <td>PEATÓN</td>\n",
       "      <td>PEATÓN</td>\n",
       "      <td>28</td>\n",
       "      <td>F</td>\n",
       "      <td>10</td>\n",
       "      <td>AUTO</td>\n",
       "      <td>RUTA INTERBALNEARIA KM 51,000</td>\n",
       "      <td>618263.27</td>\n",
       "      <td>6153928.04</td>\n",
       "    </tr>\n",
       "    <tr>\n",
       "      <th>1</th>\n",
       "      <td>2019-01-02 20:40:00</td>\n",
       "      <td>TACUAREMBO</td>\n",
       "      <td>N/C</td>\n",
       "      <td>NACIONAL</td>\n",
       "      <td>COLISIÓN ENTRE VEHÍCULOS</td>\n",
       "      <td>BICICLETA</td>\n",
       "      <td>CONDUCTOR</td>\n",
       "      <td>51</td>\n",
       "      <td>M</td>\n",
       "      <td>0</td>\n",
       "      <td>CAMIONETA</td>\n",
       "      <td>RUTA 26 KM 239,000</td>\n",
       "      <td>601343.35</td>\n",
       "      <td>6492627.09</td>\n",
       "    </tr>\n",
       "  </tbody>\n",
       "</table>\n",
       "</div>"
      ],
      "text/plain": [
       "            Fechayhora Departamento         Localidad Jurisdiccion   \\\n",
       "0  2019-01-02 13:30:00    CANELONES  PARQUE DEL PLATA      NACIONAL   \n",
       "1  2019-01-02 20:40:00   TACUAREMBO               N/C      NACIONAL   \n",
       "\n",
       "            TipodeSiniestro   Vehiculo        Rol  Edad Sexo  \\\n",
       "0       ATROPELLO DE PEATÓN     PEATÓN     PEATÓN    28    F   \n",
       "1  COLISIÓN ENTRE VEHÍCULOS  BICICLETA  CONDUCTOR    51    M   \n",
       "\n",
       "   FallecidoalosDias Otrovehiculo              LugardelSiniestro          X  \\\n",
       "0                 10         AUTO  RUTA INTERBALNEARIA KM 51,000  618263.27   \n",
       "1                  0    CAMIONETA             RUTA 26 KM 239,000  601343.35   \n",
       "\n",
       "            Y  \n",
       "0  6153928.04  \n",
       "1  6492627.09  "
      ]
     },
     "execution_count": 18,
     "metadata": {},
     "output_type": "execute_result"
    }
   ],
   "source": [
    "df_2019.head(2)"
   ]
  },
  {
   "cell_type": "code",
   "execution_count": 19,
   "metadata": {},
   "outputs": [],
   "source": [
    "# Eliminamos las filas donde la Localidad no sea Montevideo\n",
    "df_2019 = df_2019[df_2019['Localidad'] == 'MONTEVIDEO']"
   ]
  },
  {
   "cell_type": "code",
   "execution_count": 20,
   "metadata": {},
   "outputs": [
    {
     "data": {
      "text/html": [
       "<div>\n",
       "<style scoped>\n",
       "    .dataframe tbody tr th:only-of-type {\n",
       "        vertical-align: middle;\n",
       "    }\n",
       "\n",
       "    .dataframe tbody tr th {\n",
       "        vertical-align: top;\n",
       "    }\n",
       "\n",
       "    .dataframe thead th {\n",
       "        text-align: right;\n",
       "    }\n",
       "</style>\n",
       "<table border=\"1\" class=\"dataframe\">\n",
       "  <thead>\n",
       "    <tr style=\"text-align: right;\">\n",
       "      <th></th>\n",
       "      <th>Fechayhora</th>\n",
       "      <th>Departamento</th>\n",
       "      <th>Localidad</th>\n",
       "      <th>Jurisdiccion</th>\n",
       "      <th>TipodeSiniestro</th>\n",
       "      <th>Vehiculo</th>\n",
       "      <th>Rol</th>\n",
       "      <th>Edad</th>\n",
       "      <th>Sexo</th>\n",
       "      <th>FallecidoalosDias</th>\n",
       "      <th>Otrovehiculo</th>\n",
       "      <th>LugardelSiniestro</th>\n",
       "      <th>X</th>\n",
       "      <th>Y</th>\n",
       "    </tr>\n",
       "  </thead>\n",
       "  <tbody>\n",
       "    <tr>\n",
       "      <th>4</th>\n",
       "      <td>2019-01-05 12:54:00</td>\n",
       "      <td>MONTEVIDEO</td>\n",
       "      <td>MONTEVIDEO</td>\n",
       "      <td>NACIONAL</td>\n",
       "      <td>ATROPELLO DE PEATÓN</td>\n",
       "      <td>PEATÓN</td>\n",
       "      <td>PEATÓN</td>\n",
       "      <td>77</td>\n",
       "      <td>F</td>\n",
       "      <td>0</td>\n",
       "      <td>CAMIONETA</td>\n",
       "      <td>ACCESOS KM 4,400</td>\n",
       "      <td>569373.303745</td>\n",
       "      <td>6.140971e+06</td>\n",
       "    </tr>\n",
       "    <tr>\n",
       "      <th>5</th>\n",
       "      <td>2019-01-05 14:13:00</td>\n",
       "      <td>MONTEVIDEO</td>\n",
       "      <td>MONTEVIDEO</td>\n",
       "      <td>DEPARTAMENTAL</td>\n",
       "      <td>COLISIÓN ENTRE VEHÍCULOS</td>\n",
       "      <td>CAMION</td>\n",
       "      <td>PASAJERO</td>\n",
       "      <td>70</td>\n",
       "      <td>F</td>\n",
       "      <td>1</td>\n",
       "      <td>AUTO</td>\n",
       "      <td>JUAN JACOBO ROUSSEAU ESQ. HAVANA</td>\n",
       "      <td>579069.920600</td>\n",
       "      <td>6.142002e+06</td>\n",
       "    </tr>\n",
       "  </tbody>\n",
       "</table>\n",
       "</div>"
      ],
      "text/plain": [
       "            Fechayhora Departamento   Localidad  Jurisdiccion   \\\n",
       "4  2019-01-05 12:54:00   MONTEVIDEO  MONTEVIDEO       NACIONAL   \n",
       "5  2019-01-05 14:13:00   MONTEVIDEO  MONTEVIDEO  DEPARTAMENTAL   \n",
       "\n",
       "            TipodeSiniestro Vehiculo       Rol  Edad Sexo  FallecidoalosDias  \\\n",
       "4       ATROPELLO DE PEATÓN   PEATÓN    PEATÓN    77    F                  0   \n",
       "5  COLISIÓN ENTRE VEHÍCULOS   CAMION  PASAJERO    70    F                  1   \n",
       "\n",
       "  Otrovehiculo                 LugardelSiniestro              X             Y  \n",
       "4    CAMIONETA                  ACCESOS KM 4,400  569373.303745  6.140971e+06  \n",
       "5         AUTO  JUAN JACOBO ROUSSEAU ESQ. HAVANA  579069.920600  6.142002e+06  "
      ]
     },
     "execution_count": 20,
     "metadata": {},
     "output_type": "execute_result"
    }
   ],
   "source": [
    "df_2019.head(2)"
   ]
  },
  {
   "cell_type": "code",
   "execution_count": 21,
   "metadata": {},
   "outputs": [],
   "source": [
    "# Eliminamos las columnas que no nos interesan\n",
    "df_2019.drop(columns=['Departamento','Jurisdiccion ','TipodeSiniestro','Vehiculo','Rol','Edad','Sexo',\n",
    "                        'FallecidoalosDias','Otrovehiculo','LugardelSiniestro','X','Y'], inplace=True)"
   ]
  },
  {
   "cell_type": "code",
   "execution_count": 22,
   "metadata": {},
   "outputs": [],
   "source": [
    "# Renombramos la columna para que coincida con las otras tablas\n",
    "df_2019.rename(columns={'Fechayhora':'Fecha y hora'}, inplace=True) "
   ]
  },
  {
   "cell_type": "code",
   "execution_count": 23,
   "metadata": {},
   "outputs": [
    {
     "data": {
      "text/html": [
       "<div>\n",
       "<style scoped>\n",
       "    .dataframe tbody tr th:only-of-type {\n",
       "        vertical-align: middle;\n",
       "    }\n",
       "\n",
       "    .dataframe tbody tr th {\n",
       "        vertical-align: top;\n",
       "    }\n",
       "\n",
       "    .dataframe thead th {\n",
       "        text-align: right;\n",
       "    }\n",
       "</style>\n",
       "<table border=\"1\" class=\"dataframe\">\n",
       "  <thead>\n",
       "    <tr style=\"text-align: right;\">\n",
       "      <th></th>\n",
       "      <th>Fecha y hora</th>\n",
       "      <th>Localidad</th>\n",
       "    </tr>\n",
       "  </thead>\n",
       "  <tbody>\n",
       "    <tr>\n",
       "      <th>4</th>\n",
       "      <td>2019-01-05 12:54:00</td>\n",
       "      <td>MONTEVIDEO</td>\n",
       "    </tr>\n",
       "    <tr>\n",
       "      <th>5</th>\n",
       "      <td>2019-01-05 14:13:00</td>\n",
       "      <td>MONTEVIDEO</td>\n",
       "    </tr>\n",
       "  </tbody>\n",
       "</table>\n",
       "</div>"
      ],
      "text/plain": [
       "          Fecha y hora   Localidad\n",
       "4  2019-01-05 12:54:00  MONTEVIDEO\n",
       "5  2019-01-05 14:13:00  MONTEVIDEO"
      ]
     },
     "execution_count": 23,
     "metadata": {},
     "output_type": "execute_result"
    }
   ],
   "source": [
    "df_2019.head(2)"
   ]
  },
  {
   "cell_type": "markdown",
   "metadata": {},
   "source": [
    "### Unimos los 4 dataframes en uno solo"
   ]
  },
  {
   "cell_type": "code",
   "execution_count": 24,
   "metadata": {},
   "outputs": [],
   "source": [
    "dfs = [df_2016, df_2017, df_2018, df_2019]"
   ]
  },
  {
   "cell_type": "code",
   "execution_count": 25,
   "metadata": {},
   "outputs": [],
   "source": [
    "df_montevideo = pd.concat(dfs, ignore_index=True)\n",
    "df_montevideo.reset_index(drop=True, inplace=True)"
   ]
  },
  {
   "cell_type": "code",
   "execution_count": 26,
   "metadata": {},
   "outputs": [],
   "source": [
    "# Creamos la columna Id_Hecho para que coincida con las otras tablas\n",
    "df_montevideo['Id_Hecho'] = range(1, len(df_montevideo) + 1)"
   ]
  },
  {
   "cell_type": "code",
   "execution_count": 27,
   "metadata": {},
   "outputs": [],
   "source": [
    "# Creamos la columna Gravedad y la rellenamos con el valor FATAL\n",
    "df_montevideo['Gravedad'] = 'FATAL'"
   ]
  },
  {
   "cell_type": "code",
   "execution_count": 28,
   "metadata": {},
   "outputs": [],
   "source": [
    "# Renombramos las columnas\n",
    "nombre_columnas = {'Fecha y hora':'FECHA','Localidad':'LOCALIDAD','Id_Hecho':'ID_HECHO','Gravedad':'GRAVEDAD'}\n",
    "df_montevideo.rename(columns=nombre_columnas, inplace=True)"
   ]
  },
  {
   "cell_type": "code",
   "execution_count": 30,
   "metadata": {},
   "outputs": [],
   "source": [
    "# Cambiamos el formato de la fecha\n",
    "df_montevideo['FECHA'] = pd.to_datetime(df_montevideo['FECHA'])\n",
    "df_montevideo['FECHA'] = df_montevideo['FECHA'].dt.date"
   ]
  },
  {
   "cell_type": "markdown",
   "metadata": {},
   "source": [
    "### Guardamos el dataframe en un archivo excel"
   ]
  },
  {
   "cell_type": "code",
   "execution_count": 8,
   "metadata": {},
   "outputs": [],
   "source": [
    "df_montevideo.to_excel('accidentes_fatales_montevideo.xlsx', index=False)"
   ]
  },
  {
   "cell_type": "markdown",
   "metadata": {},
   "source": [
    "### **Cargamos el archivo excel de accidentes en CABA para adaptarlo al formato del dataframe de Uruguay**"
   ]
  },
  {
   "cell_type": "code",
   "execution_count": 11,
   "metadata": {},
   "outputs": [],
   "source": [
    "accidentes_fatales_CABA = pd.read_excel('accidentes.xlsx')"
   ]
  },
  {
   "cell_type": "code",
   "execution_count": 12,
   "metadata": {},
   "outputs": [
    {
     "data": {
      "text/html": [
       "<div>\n",
       "<style scoped>\n",
       "    .dataframe tbody tr th:only-of-type {\n",
       "        vertical-align: middle;\n",
       "    }\n",
       "\n",
       "    .dataframe tbody tr th {\n",
       "        vertical-align: top;\n",
       "    }\n",
       "\n",
       "    .dataframe thead th {\n",
       "        text-align: right;\n",
       "    }\n",
       "</style>\n",
       "<table border=\"1\" class=\"dataframe\">\n",
       "  <thead>\n",
       "    <tr style=\"text-align: right;\">\n",
       "      <th></th>\n",
       "      <th>ID_HECHO</th>\n",
       "      <th>N_VICTIMAS</th>\n",
       "      <th>FECHA</th>\n",
       "      <th>HORA</th>\n",
       "      <th>TIPO_DE_CALLE</th>\n",
       "      <th>COMUNA</th>\n",
       "      <th>XY (CABA)</th>\n",
       "      <th>LONGITUD</th>\n",
       "      <th>LATITUD</th>\n",
       "      <th>VEHICULO_ACUSADO</th>\n",
       "      <th>GRAVEDAD</th>\n",
       "      <th>CARATULA_POLICIAL</th>\n",
       "    </tr>\n",
       "  </thead>\n",
       "  <tbody>\n",
       "    <tr>\n",
       "      <th>0</th>\n",
       "      <td>2016-0001</td>\n",
       "      <td>1</td>\n",
       "      <td>2016-01-01</td>\n",
       "      <td>4.0</td>\n",
       "      <td>AVENIDA</td>\n",
       "      <td>8.0</td>\n",
       "      <td>Point (98896.78238426 93532.43437792)</td>\n",
       "      <td>-58.475340</td>\n",
       "      <td>-34.687570</td>\n",
       "      <td>AUTO</td>\n",
       "      <td>FATAL</td>\n",
       "      <td>HOMICIDIO CULPOSO</td>\n",
       "    </tr>\n",
       "    <tr>\n",
       "      <th>1</th>\n",
       "      <td>2016-0002</td>\n",
       "      <td>1</td>\n",
       "      <td>2016-01-02</td>\n",
       "      <td>1.0</td>\n",
       "      <td>AVENIDA</td>\n",
       "      <td>9.0</td>\n",
       "      <td>Point (95832.05571093 95505.41641999)</td>\n",
       "      <td>-58.508775</td>\n",
       "      <td>-34.669777</td>\n",
       "      <td>PASAJEROS</td>\n",
       "      <td>FATAL</td>\n",
       "      <td>HOMICIDIO CULPOSO</td>\n",
       "    </tr>\n",
       "  </tbody>\n",
       "</table>\n",
       "</div>"
      ],
      "text/plain": [
       "    ID_HECHO  N_VICTIMAS      FECHA  HORA TIPO_DE_CALLE  COMUNA  \\\n",
       "0  2016-0001           1 2016-01-01   4.0       AVENIDA     8.0   \n",
       "1  2016-0002           1 2016-01-02   1.0       AVENIDA     9.0   \n",
       "\n",
       "                               XY (CABA)   LONGITUD    LATITUD  \\\n",
       "0  Point (98896.78238426 93532.43437792) -58.475340 -34.687570   \n",
       "1  Point (95832.05571093 95505.41641999) -58.508775 -34.669777   \n",
       "\n",
       "  VEHICULO_ACUSADO GRAVEDAD  CARATULA_POLICIAL  \n",
       "0             AUTO    FATAL  HOMICIDIO CULPOSO  \n",
       "1        PASAJEROS    FATAL  HOMICIDIO CULPOSO  "
      ]
     },
     "execution_count": 12,
     "metadata": {},
     "output_type": "execute_result"
    }
   ],
   "source": [
    "accidentes_fatales_CABA.head(2)"
   ]
  },
  {
   "cell_type": "code",
   "execution_count": 13,
   "metadata": {},
   "outputs": [
    {
     "data": {
      "text/plain": [
       "Index(['ID_HECHO', 'N_VICTIMAS', 'FECHA', 'HORA', 'TIPO_DE_CALLE', 'COMUNA',\n",
       "       'XY (CABA)', 'LONGITUD', 'LATITUD', 'VEHICULO_ACUSADO', 'GRAVEDAD',\n",
       "       'CARATULA_POLICIAL'],\n",
       "      dtype='object')"
      ]
     },
     "execution_count": 13,
     "metadata": {},
     "output_type": "execute_result"
    }
   ],
   "source": [
    "accidentes_fatales_CABA.columns"
   ]
  },
  {
   "cell_type": "code",
   "execution_count": 14,
   "metadata": {},
   "outputs": [],
   "source": [
    "# Eliminamos las columnas que no nos interesan\n",
    "accidentes_fatales_CABA.drop(columns=['N_VICTIMAS','HORA','TIPO_DE_CALLE','COMUNA','XY (CABA)','LONGITUD',\n",
    "                            'LATITUD','VEHICULO_ACUSADO','CARATULA_POLICIAL'], inplace=True)"
   ]
  },
  {
   "cell_type": "code",
   "execution_count": 15,
   "metadata": {},
   "outputs": [],
   "source": [
    "# Creamos la columna Gravedad y la rellenamos con el valor FATAL\n",
    "accidentes_fatales_CABA = accidentes_fatales_CABA[accidentes_fatales_CABA['GRAVEDAD'] == 'FATAL']"
   ]
  },
  {
   "cell_type": "code",
   "execution_count": 16,
   "metadata": {},
   "outputs": [
    {
     "data": {
      "text/html": [
       "<div>\n",
       "<style scoped>\n",
       "    .dataframe tbody tr th:only-of-type {\n",
       "        vertical-align: middle;\n",
       "    }\n",
       "\n",
       "    .dataframe tbody tr th {\n",
       "        vertical-align: top;\n",
       "    }\n",
       "\n",
       "    .dataframe thead th {\n",
       "        text-align: right;\n",
       "    }\n",
       "</style>\n",
       "<table border=\"1\" class=\"dataframe\">\n",
       "  <thead>\n",
       "    <tr style=\"text-align: right;\">\n",
       "      <th></th>\n",
       "      <th>ID_HECHO</th>\n",
       "      <th>FECHA</th>\n",
       "      <th>GRAVEDAD</th>\n",
       "    </tr>\n",
       "  </thead>\n",
       "  <tbody>\n",
       "    <tr>\n",
       "      <th>0</th>\n",
       "      <td>2016-0001</td>\n",
       "      <td>2016-01-01</td>\n",
       "      <td>FATAL</td>\n",
       "    </tr>\n",
       "    <tr>\n",
       "      <th>1</th>\n",
       "      <td>2016-0002</td>\n",
       "      <td>2016-01-02</td>\n",
       "      <td>FATAL</td>\n",
       "    </tr>\n",
       "  </tbody>\n",
       "</table>\n",
       "</div>"
      ],
      "text/plain": [
       "    ID_HECHO      FECHA GRAVEDAD\n",
       "0  2016-0001 2016-01-01    FATAL\n",
       "1  2016-0002 2016-01-02    FATAL"
      ]
     },
     "execution_count": 16,
     "metadata": {},
     "output_type": "execute_result"
    }
   ],
   "source": [
    "accidentes_fatales_CABA.head(2)"
   ]
  },
  {
   "cell_type": "code",
   "execution_count": 17,
   "metadata": {},
   "outputs": [],
   "source": [
    "# Creamos la colimna LOCALIDAD y la rellenamos con el valor CABA\n",
    "accidentes_fatales_CABA['LOCALIDAD'] = 'CABA'"
   ]
  },
  {
   "cell_type": "code",
   "execution_count": 18,
   "metadata": {},
   "outputs": [
    {
     "data": {
      "text/html": [
       "<div>\n",
       "<style scoped>\n",
       "    .dataframe tbody tr th:only-of-type {\n",
       "        vertical-align: middle;\n",
       "    }\n",
       "\n",
       "    .dataframe tbody tr th {\n",
       "        vertical-align: top;\n",
       "    }\n",
       "\n",
       "    .dataframe thead th {\n",
       "        text-align: right;\n",
       "    }\n",
       "</style>\n",
       "<table border=\"1\" class=\"dataframe\">\n",
       "  <thead>\n",
       "    <tr style=\"text-align: right;\">\n",
       "      <th></th>\n",
       "      <th>ID_HECHO</th>\n",
       "      <th>FECHA</th>\n",
       "      <th>GRAVEDAD</th>\n",
       "      <th>LOCALIDAD</th>\n",
       "    </tr>\n",
       "  </thead>\n",
       "  <tbody>\n",
       "    <tr>\n",
       "      <th>0</th>\n",
       "      <td>2016-0001</td>\n",
       "      <td>2016-01-01</td>\n",
       "      <td>FATAL</td>\n",
       "      <td>CABA</td>\n",
       "    </tr>\n",
       "    <tr>\n",
       "      <th>1</th>\n",
       "      <td>2016-0002</td>\n",
       "      <td>2016-01-02</td>\n",
       "      <td>FATAL</td>\n",
       "      <td>CABA</td>\n",
       "    </tr>\n",
       "  </tbody>\n",
       "</table>\n",
       "</div>"
      ],
      "text/plain": [
       "    ID_HECHO      FECHA GRAVEDAD LOCALIDAD\n",
       "0  2016-0001 2016-01-01    FATAL      CABA\n",
       "1  2016-0002 2016-01-02    FATAL      CABA"
      ]
     },
     "execution_count": 18,
     "metadata": {},
     "output_type": "execute_result"
    }
   ],
   "source": [
    "accidentes_fatales_CABA.head(2)"
   ]
  },
  {
   "cell_type": "markdown",
   "metadata": {},
   "source": [
    "### Guardamos el dataframe en un archivo excel"
   ]
  },
  {
   "cell_type": "code",
   "execution_count": 19,
   "metadata": {},
   "outputs": [],
   "source": [
    "accidentes_fatales_CABA.to_excel('accidentes_fatales_CABA.xlsx')"
   ]
  }
 ],
 "metadata": {
  "kernelspec": {
   "display_name": "Python 3",
   "language": "python",
   "name": "python3"
  },
  "language_info": {
   "codemirror_mode": {
    "name": "ipython",
    "version": 3
   },
   "file_extension": ".py",
   "mimetype": "text/x-python",
   "name": "python",
   "nbconvert_exporter": "python",
   "pygments_lexer": "ipython3",
   "version": "3.11.6"
  }
 },
 "nbformat": 4,
 "nbformat_minor": 2
}
