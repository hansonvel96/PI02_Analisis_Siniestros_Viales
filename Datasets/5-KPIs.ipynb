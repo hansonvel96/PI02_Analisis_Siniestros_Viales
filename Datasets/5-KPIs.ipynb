{
 "cells": [
  {
   "cell_type": "markdown",
   "metadata": {},
   "source": [
    "# **Preparación de datos para `KPIs`**"
   ]
  },
  {
   "cell_type": "markdown",
   "metadata": {},
   "source": [
    "### Para la realización de los mismos, en primer lugar procedemos a obtener la cantidad de habitantes en CABA en el período comprendido entre los años 2016 y 2021. Para ello nos basamos de los datos obtenidos en el sitio web de la Dirección General de Estadística y Censos de la Ciudad de Buenos Aires, los cuales pueden ser descargados en el siguiente [link](https://data.buenosaires.gob.ar/dataset/estructura-poblacion)"
   ]
  },
  {
   "cell_type": "markdown",
   "metadata": {},
   "source": [
    "### Importamos las librerías necesarias para el análisis de los datos."
   ]
  },
  {
   "cell_type": "code",
   "execution_count": 1,
   "metadata": {},
   "outputs": [],
   "source": [
    "import pandas as pd"
   ]
  },
  {
   "cell_type": "code",
   "execution_count": 2,
   "metadata": {},
   "outputs": [],
   "source": [
    "pob_2016 = pd.read_excel('Poblacion_CABA/PBP_CO1025.xls',sheet_name = '2016')\n",
    "pob_2017 = pd.read_excel('Poblacion_CABA/PBP_CO1025.xls',sheet_name = '2017')\n",
    "pob_2018 = pd.read_excel('Poblacion_CABA/PBP_CO1025.xls',sheet_name = '2018')\n",
    "pob_2019 = pd.read_excel('Poblacion_CABA/PBP_CO1025.xls',sheet_name = '2019')\n",
    "pob_2020 = pd.read_excel('Poblacion_CABA/PBP_CO1025.xls',sheet_name = '2020')\n",
    "pob_2021 = pd.read_excel('Poblacion_CABA/PBP_CO1025.xls',sheet_name = '2021')"
   ]
  },
  {
   "cell_type": "markdown",
   "metadata": {},
   "source": [
    "### Visualizamos los datos obtenidos para corroborar que los mismos se encuentren en condiciones de ser utilizados y obtener la ubicación del que nos interesa."
   ]
  },
  {
   "cell_type": "code",
   "execution_count": 3,
   "metadata": {},
   "outputs": [
    {
     "data": {
      "text/html": [
       "<div>\n",
       "<style scoped>\n",
       "    .dataframe tbody tr th:only-of-type {\n",
       "        vertical-align: middle;\n",
       "    }\n",
       "\n",
       "    .dataframe tbody tr th {\n",
       "        vertical-align: top;\n",
       "    }\n",
       "\n",
       "    .dataframe thead th {\n",
       "        text-align: right;\n",
       "    }\n",
       "</style>\n",
       "<table border=\"1\" class=\"dataframe\">\n",
       "  <thead>\n",
       "    <tr style=\"text-align: right;\">\n",
       "      <th></th>\n",
       "      <th>Proyecciones de población por grupo de edad y comuna según sexo. Ciudad de Buenos Aires. 1 de julio de 2016</th>\n",
       "      <th>Unnamed: 1</th>\n",
       "      <th>Unnamed: 2</th>\n",
       "      <th>Unnamed: 3</th>\n",
       "      <th>Unnamed: 4</th>\n",
       "      <th>Unnamed: 5</th>\n",
       "      <th>Unnamed: 6</th>\n",
       "      <th>Unnamed: 7</th>\n",
       "      <th>Unnamed: 8</th>\n",
       "      <th>Unnamed: 9</th>\n",
       "      <th>Unnamed: 10</th>\n",
       "      <th>Unnamed: 11</th>\n",
       "      <th>Unnamed: 12</th>\n",
       "      <th>Unnamed: 13</th>\n",
       "      <th>Unnamed: 14</th>\n",
       "      <th>Unnamed: 15</th>\n",
       "      <th>Unnamed: 16</th>\n",
       "    </tr>\n",
       "  </thead>\n",
       "  <tbody>\n",
       "    <tr>\n",
       "      <th>0</th>\n",
       "      <td>Total</td>\n",
       "      <td>NaN</td>\n",
       "      <td>NaN</td>\n",
       "      <td>NaN</td>\n",
       "      <td>NaN</td>\n",
       "      <td>NaN</td>\n",
       "      <td>NaN</td>\n",
       "      <td>NaN</td>\n",
       "      <td>NaN</td>\n",
       "      <td>NaN</td>\n",
       "      <td>NaN</td>\n",
       "      <td>NaN</td>\n",
       "      <td>NaN</td>\n",
       "      <td>NaN</td>\n",
       "      <td>NaN</td>\n",
       "      <td>NaN</td>\n",
       "      <td>NaN</td>\n",
       "    </tr>\n",
       "    <tr>\n",
       "      <th>1</th>\n",
       "      <td>Grupo de edad (años)</td>\n",
       "      <td>Total</td>\n",
       "      <td>1.0</td>\n",
       "      <td>2.0</td>\n",
       "      <td>3.0</td>\n",
       "      <td>4.0</td>\n",
       "      <td>5.0</td>\n",
       "      <td>6.0</td>\n",
       "      <td>7.0</td>\n",
       "      <td>8.0</td>\n",
       "      <td>9.0</td>\n",
       "      <td>10.0</td>\n",
       "      <td>11.0</td>\n",
       "      <td>12.0</td>\n",
       "      <td>13.0</td>\n",
       "      <td>14.0</td>\n",
       "      <td>15</td>\n",
       "    </tr>\n",
       "    <tr>\n",
       "      <th>2</th>\n",
       "      <td>Total</td>\n",
       "      <td>3059122</td>\n",
       "      <td>252053.0</td>\n",
       "      <td>149848.0</td>\n",
       "      <td>192573.0</td>\n",
       "      <td>238303.0</td>\n",
       "      <td>186740.0</td>\n",
       "      <td>184611.0</td>\n",
       "      <td>240116.0</td>\n",
       "      <td>225737.0</td>\n",
       "      <td>170353.0</td>\n",
       "      <td>170163.0</td>\n",
       "      <td>189956.0</td>\n",
       "      <td>213576.0</td>\n",
       "      <td>235819.0</td>\n",
       "      <td>226884.0</td>\n",
       "      <td>182390</td>\n",
       "    </tr>\n",
       "  </tbody>\n",
       "</table>\n",
       "</div>"
      ],
      "text/plain": [
       "  Proyecciones de población por grupo de edad y comuna según sexo. Ciudad de Buenos Aires. 1 de julio de 2016  \\\n",
       "0                                              Total                                                            \n",
       "1                               Grupo de edad (años)                                                            \n",
       "2                                              Total                                                            \n",
       "\n",
       "  Unnamed: 1  Unnamed: 2  Unnamed: 3  Unnamed: 4  Unnamed: 5  Unnamed: 6  \\\n",
       "0        NaN         NaN         NaN         NaN         NaN         NaN   \n",
       "1      Total         1.0         2.0         3.0         4.0         5.0   \n",
       "2    3059122    252053.0    149848.0    192573.0    238303.0    186740.0   \n",
       "\n",
       "   Unnamed: 7  Unnamed: 8  Unnamed: 9  Unnamed: 10  Unnamed: 11  Unnamed: 12  \\\n",
       "0         NaN         NaN         NaN          NaN          NaN          NaN   \n",
       "1         6.0         7.0         8.0          9.0         10.0         11.0   \n",
       "2    184611.0    240116.0    225737.0     170353.0     170163.0     189956.0   \n",
       "\n",
       "   Unnamed: 13  Unnamed: 14  Unnamed: 15 Unnamed: 16  \n",
       "0          NaN          NaN          NaN         NaN  \n",
       "1         12.0         13.0         14.0          15  \n",
       "2     213576.0     235819.0     226884.0      182390  "
      ]
     },
     "execution_count": 3,
     "metadata": {},
     "output_type": "execute_result"
    }
   ],
   "source": [
    "pob_2016.head(3)"
   ]
  },
  {
   "cell_type": "markdown",
   "metadata": {},
   "source": [
    "### Extraemos la cantidad de habitantes de CABA por año y lo encerramos en una variable."
   ]
  },
  {
   "cell_type": "code",
   "execution_count": 4,
   "metadata": {},
   "outputs": [],
   "source": [
    "hab_2016 = pob_2016['Unnamed: 1'][2]\n",
    "hab_2017 = pob_2017['Unnamed: 1'][2]\n",
    "hab_2018 = pob_2018['Unnamed: 1'][2]\n",
    "hab_2019 = pob_2019['Unnamed: 1'][2]\n",
    "hab_2020 = pob_2020['Unnamed: 1'][2]\n",
    "hab_2021 = pob_2021['Unnamed: 1'][2]"
   ]
  },
  {
   "cell_type": "code",
   "execution_count": 5,
   "metadata": {},
   "outputs": [
    {
     "data": {
      "text/plain": [
       "3059122"
      ]
     },
     "execution_count": 5,
     "metadata": {},
     "output_type": "execute_result"
    }
   ],
   "source": [
    "# Revisamos que los datos sean correctos\n",
    "hab_2016"
   ]
  },
  {
   "cell_type": "markdown",
   "metadata": {},
   "source": [
    "### Preparamos los datasets para la realización de los `KPIs` y los guardamos en archivos `.xlsx` para su posterior utilización."
   ]
  },
  {
   "cell_type": "markdown",
   "metadata": {},
   "source": [
    "#### + Primer Dataset"
   ]
  },
  {
   "cell_type": "code",
   "execution_count": 6,
   "metadata": {},
   "outputs": [
    {
     "data": {
      "text/html": [
       "<div>\n",
       "<style scoped>\n",
       "    .dataframe tbody tr th:only-of-type {\n",
       "        vertical-align: middle;\n",
       "    }\n",
       "\n",
       "    .dataframe tbody tr th {\n",
       "        vertical-align: top;\n",
       "    }\n",
       "\n",
       "    .dataframe thead th {\n",
       "        text-align: right;\n",
       "    }\n",
       "</style>\n",
       "<table border=\"1\" class=\"dataframe\">\n",
       "  <thead>\n",
       "    <tr style=\"text-align: right;\">\n",
       "      <th></th>\n",
       "      <th>ID_HECHO</th>\n",
       "      <th>N_VICTIMAS</th>\n",
       "      <th>FECHA</th>\n",
       "      <th>HORA</th>\n",
       "      <th>TIPO_DE_CALLE</th>\n",
       "      <th>COMUNA</th>\n",
       "      <th>XY (CABA)</th>\n",
       "      <th>LONGITUD</th>\n",
       "      <th>LATITUD</th>\n",
       "      <th>VEHICULO_VICTIMA</th>\n",
       "      <th>VEHICULO_ACUSADO</th>\n",
       "      <th>GRAVEDAD</th>\n",
       "      <th>CARATULA_POLICIAL</th>\n",
       "    </tr>\n",
       "  </thead>\n",
       "  <tbody>\n",
       "    <tr>\n",
       "      <th>0</th>\n",
       "      <td>2016-0001</td>\n",
       "      <td>1</td>\n",
       "      <td>2016-01-01</td>\n",
       "      <td>4.0</td>\n",
       "      <td>AVENIDA</td>\n",
       "      <td>8.0</td>\n",
       "      <td>Point (98896.78238426 93532.43437792)</td>\n",
       "      <td>-58.475340</td>\n",
       "      <td>-34.687570</td>\n",
       "      <td>MOTO</td>\n",
       "      <td>AUTO</td>\n",
       "      <td>FATAL</td>\n",
       "      <td>HOMICIDIO CULPOSO</td>\n",
       "    </tr>\n",
       "    <tr>\n",
       "      <th>1</th>\n",
       "      <td>2016-0002</td>\n",
       "      <td>1</td>\n",
       "      <td>2016-01-02</td>\n",
       "      <td>1.0</td>\n",
       "      <td>AVENIDA</td>\n",
       "      <td>9.0</td>\n",
       "      <td>Point (95832.05571093 95505.41641999)</td>\n",
       "      <td>-58.508775</td>\n",
       "      <td>-34.669777</td>\n",
       "      <td>AUTO</td>\n",
       "      <td>PASAJEROS</td>\n",
       "      <td>FATAL</td>\n",
       "      <td>HOMICIDIO CULPOSO</td>\n",
       "    </tr>\n",
       "    <tr>\n",
       "      <th>2</th>\n",
       "      <td>2016-0003</td>\n",
       "      <td>1</td>\n",
       "      <td>2016-01-03</td>\n",
       "      <td>7.0</td>\n",
       "      <td>AVENIDA</td>\n",
       "      <td>1.0</td>\n",
       "      <td>Point (106684.29090040 99706.57687843)</td>\n",
       "      <td>-58.390403</td>\n",
       "      <td>-34.631894</td>\n",
       "      <td>MOTO</td>\n",
       "      <td>AUTO</td>\n",
       "      <td>FATAL</td>\n",
       "      <td>HOMICIDIO CULPOSO</td>\n",
       "    </tr>\n",
       "  </tbody>\n",
       "</table>\n",
       "</div>"
      ],
      "text/plain": [
       "    ID_HECHO  N_VICTIMAS      FECHA  HORA TIPO_DE_CALLE  COMUNA  \\\n",
       "0  2016-0001           1 2016-01-01   4.0       AVENIDA     8.0   \n",
       "1  2016-0002           1 2016-01-02   1.0       AVENIDA     9.0   \n",
       "2  2016-0003           1 2016-01-03   7.0       AVENIDA     1.0   \n",
       "\n",
       "                                XY (CABA)   LONGITUD    LATITUD  \\\n",
       "0   Point (98896.78238426 93532.43437792) -58.475340 -34.687570   \n",
       "1   Point (95832.05571093 95505.41641999) -58.508775 -34.669777   \n",
       "2  Point (106684.29090040 99706.57687843) -58.390403 -34.631894   \n",
       "\n",
       "  VEHICULO_VICTIMA VEHICULO_ACUSADO GRAVEDAD  CARATULA_POLICIAL  \n",
       "0             MOTO             AUTO    FATAL  HOMICIDIO CULPOSO  \n",
       "1             AUTO        PASAJEROS    FATAL  HOMICIDIO CULPOSO  \n",
       "2             MOTO             AUTO    FATAL  HOMICIDIO CULPOSO  "
      ]
     },
     "execution_count": 6,
     "metadata": {},
     "output_type": "execute_result"
    }
   ],
   "source": [
    "accidentes_CABA = pd.read_excel('accidentes.xlsx')\n",
    "accidentes_CABA.head(3)"
   ]
  },
  {
   "cell_type": "code",
   "execution_count": 7,
   "metadata": {},
   "outputs": [],
   "source": [
    "# Cambiamos el tipo de dato de FECHA y mantenemos solo las filas donde GRAVEDAD sea FATAL\n",
    "accidentes_CABA['FECHA'] = pd.to_datetime(accidentes_CABA['FECHA'])\n",
    "accidentes_CABA = accidentes_CABA[accidentes_CABA['GRAVEDAD'] == 'FATAL']"
   ]
  },
  {
   "cell_type": "code",
   "execution_count": 8,
   "metadata": {},
   "outputs": [],
   "source": [
    "# Creamos columnas de AÑO y SEMESTRE\n",
    "accidentes_CABA['AÑO'] = accidentes_CABA['FECHA'].dt.year\n",
    "accidentes_CABA['FATAL SEM 1'] = ((accidentes_CABA['FECHA'].dt.month <= 6).astype(int) * 1)\n",
    "accidentes_CABA['FATAL SEM 2'] = ((accidentes_CABA['FECHA'].dt.month > 6).astype(int) * 1)"
   ]
  },
  {
   "cell_type": "code",
   "execution_count": 9,
   "metadata": {},
   "outputs": [],
   "source": [
    "accidentes_CABA = (accidentes_CABA.groupby('AÑO').agg({'FATAL SEM 1': 'sum', 'FATAL SEM 2': 'sum'}).reset_index())"
   ]
  },
  {
   "cell_type": "code",
   "execution_count": 10,
   "metadata": {},
   "outputs": [
    {
     "data": {
      "text/html": [
       "<div>\n",
       "<style scoped>\n",
       "    .dataframe tbody tr th:only-of-type {\n",
       "        vertical-align: middle;\n",
       "    }\n",
       "\n",
       "    .dataframe tbody tr th {\n",
       "        vertical-align: top;\n",
       "    }\n",
       "\n",
       "    .dataframe thead th {\n",
       "        text-align: right;\n",
       "    }\n",
       "</style>\n",
       "<table border=\"1\" class=\"dataframe\">\n",
       "  <thead>\n",
       "    <tr style=\"text-align: right;\">\n",
       "      <th></th>\n",
       "      <th>AÑO</th>\n",
       "      <th>FATAL SEM 1</th>\n",
       "      <th>FATAL SEM 2</th>\n",
       "    </tr>\n",
       "  </thead>\n",
       "  <tbody>\n",
       "    <tr>\n",
       "      <th>0</th>\n",
       "      <td>2016</td>\n",
       "      <td>64</td>\n",
       "      <td>80</td>\n",
       "    </tr>\n",
       "    <tr>\n",
       "      <th>1</th>\n",
       "      <td>2017</td>\n",
       "      <td>64</td>\n",
       "      <td>67</td>\n",
       "    </tr>\n",
       "    <tr>\n",
       "      <th>2</th>\n",
       "      <td>2018</td>\n",
       "      <td>67</td>\n",
       "      <td>76</td>\n",
       "    </tr>\n",
       "    <tr>\n",
       "      <th>3</th>\n",
       "      <td>2019</td>\n",
       "      <td>56</td>\n",
       "      <td>47</td>\n",
       "    </tr>\n",
       "    <tr>\n",
       "      <th>4</th>\n",
       "      <td>2020</td>\n",
       "      <td>32</td>\n",
       "      <td>49</td>\n",
       "    </tr>\n",
       "    <tr>\n",
       "      <th>5</th>\n",
       "      <td>2021</td>\n",
       "      <td>55</td>\n",
       "      <td>42</td>\n",
       "    </tr>\n",
       "  </tbody>\n",
       "</table>\n",
       "</div>"
      ],
      "text/plain": [
       "    AÑO  FATAL SEM 1  FATAL SEM 2\n",
       "0  2016           64           80\n",
       "1  2017           64           67\n",
       "2  2018           67           76\n",
       "3  2019           56           47\n",
       "4  2020           32           49\n",
       "5  2021           55           42"
      ]
     },
     "execution_count": 10,
     "metadata": {},
     "output_type": "execute_result"
    }
   ],
   "source": [
    "accidentes_CABA"
   ]
  },
  {
   "cell_type": "code",
   "execution_count": 11,
   "metadata": {},
   "outputs": [],
   "source": [
    "# Creamos la nueva columna 'TOTAL HABITANTES' en el DataFrame accidentes_CABA\n",
    "accidentes_CABA['TOTAL HABITANTES'] = 0  # Inicializar la columna con ceros\n",
    "\n",
    "# Asignamos el valor correspondiente a cada fila en función del año\n",
    "accidentes_CABA.loc[accidentes_CABA['AÑO'] == 2016, 'TOTAL HABITANTES'] = hab_2016\n",
    "accidentes_CABA.loc[accidentes_CABA['AÑO'] == 2017, 'TOTAL HABITANTES'] = hab_2017\n",
    "accidentes_CABA.loc[accidentes_CABA['AÑO'] == 2018, 'TOTAL HABITANTES'] = hab_2018\n",
    "accidentes_CABA.loc[accidentes_CABA['AÑO'] == 2019, 'TOTAL HABITANTES'] = hab_2019\n",
    "accidentes_CABA.loc[accidentes_CABA['AÑO'] == 2020, 'TOTAL HABITANTES'] = hab_2020\n",
    "accidentes_CABA.loc[accidentes_CABA['AÑO'] == 2021, 'TOTAL HABITANTES'] = hab_2021"
   ]
  },
  {
   "cell_type": "code",
   "execution_count": 12,
   "metadata": {},
   "outputs": [
    {
     "data": {
      "text/html": [
       "<div>\n",
       "<style scoped>\n",
       "    .dataframe tbody tr th:only-of-type {\n",
       "        vertical-align: middle;\n",
       "    }\n",
       "\n",
       "    .dataframe tbody tr th {\n",
       "        vertical-align: top;\n",
       "    }\n",
       "\n",
       "    .dataframe thead th {\n",
       "        text-align: right;\n",
       "    }\n",
       "</style>\n",
       "<table border=\"1\" class=\"dataframe\">\n",
       "  <thead>\n",
       "    <tr style=\"text-align: right;\">\n",
       "      <th></th>\n",
       "      <th>AÑO</th>\n",
       "      <th>FATAL SEM 1</th>\n",
       "      <th>FATAL SEM 2</th>\n",
       "      <th>TOTAL HABITANTES</th>\n",
       "    </tr>\n",
       "  </thead>\n",
       "  <tbody>\n",
       "    <tr>\n",
       "      <th>0</th>\n",
       "      <td>2016</td>\n",
       "      <td>64</td>\n",
       "      <td>80</td>\n",
       "      <td>3059122</td>\n",
       "    </tr>\n",
       "    <tr>\n",
       "      <th>1</th>\n",
       "      <td>2017</td>\n",
       "      <td>64</td>\n",
       "      <td>67</td>\n",
       "      <td>3063728</td>\n",
       "    </tr>\n",
       "    <tr>\n",
       "      <th>2</th>\n",
       "      <td>2018</td>\n",
       "      <td>67</td>\n",
       "      <td>76</td>\n",
       "      <td>3068043</td>\n",
       "    </tr>\n",
       "    <tr>\n",
       "      <th>3</th>\n",
       "      <td>2019</td>\n",
       "      <td>56</td>\n",
       "      <td>47</td>\n",
       "      <td>3072029</td>\n",
       "    </tr>\n",
       "    <tr>\n",
       "      <th>4</th>\n",
       "      <td>2020</td>\n",
       "      <td>32</td>\n",
       "      <td>49</td>\n",
       "      <td>3075646</td>\n",
       "    </tr>\n",
       "    <tr>\n",
       "      <th>5</th>\n",
       "      <td>2021</td>\n",
       "      <td>55</td>\n",
       "      <td>42</td>\n",
       "      <td>3078836</td>\n",
       "    </tr>\n",
       "  </tbody>\n",
       "</table>\n",
       "</div>"
      ],
      "text/plain": [
       "    AÑO  FATAL SEM 1  FATAL SEM 2  TOTAL HABITANTES\n",
       "0  2016           64           80           3059122\n",
       "1  2017           64           67           3063728\n",
       "2  2018           67           76           3068043\n",
       "3  2019           56           47           3072029\n",
       "4  2020           32           49           3075646\n",
       "5  2021           55           42           3078836"
      ]
     },
     "execution_count": 12,
     "metadata": {},
     "output_type": "execute_result"
    }
   ],
   "source": [
    "accidentes_CABA"
   ]
  },
  {
   "cell_type": "code",
   "execution_count": 57,
   "metadata": {},
   "outputs": [],
   "source": [
    "# Guardamos el DataFrame en un archivo Excel\n",
    "accidentes_CABA.to_excel('primer_kpi.xlsx', index=False)"
   ]
  },
  {
   "cell_type": "markdown",
   "metadata": {},
   "source": [
    "#### + Segundo Dataset"
   ]
  },
  {
   "cell_type": "code",
   "execution_count": 13,
   "metadata": {},
   "outputs": [
    {
     "data": {
      "text/html": [
       "<div>\n",
       "<style scoped>\n",
       "    .dataframe tbody tr th:only-of-type {\n",
       "        vertical-align: middle;\n",
       "    }\n",
       "\n",
       "    .dataframe tbody tr th {\n",
       "        vertical-align: top;\n",
       "    }\n",
       "\n",
       "    .dataframe thead th {\n",
       "        text-align: right;\n",
       "    }\n",
       "</style>\n",
       "<table border=\"1\" class=\"dataframe\">\n",
       "  <thead>\n",
       "    <tr style=\"text-align: right;\">\n",
       "      <th></th>\n",
       "      <th>ID_HECHO</th>\n",
       "      <th>N_VICTIMAS</th>\n",
       "      <th>FECHA</th>\n",
       "      <th>HORA</th>\n",
       "      <th>TIPO_DE_CALLE</th>\n",
       "      <th>COMUNA</th>\n",
       "      <th>XY (CABA)</th>\n",
       "      <th>LONGITUD</th>\n",
       "      <th>LATITUD</th>\n",
       "      <th>VEHICULO_VICTIMA</th>\n",
       "      <th>VEHICULO_ACUSADO</th>\n",
       "      <th>GRAVEDAD</th>\n",
       "      <th>CARATULA_POLICIAL</th>\n",
       "    </tr>\n",
       "  </thead>\n",
       "  <tbody>\n",
       "    <tr>\n",
       "      <th>0</th>\n",
       "      <td>2016-0001</td>\n",
       "      <td>1</td>\n",
       "      <td>2016-01-01</td>\n",
       "      <td>4.0</td>\n",
       "      <td>AVENIDA</td>\n",
       "      <td>8.0</td>\n",
       "      <td>Point (98896.78238426 93532.43437792)</td>\n",
       "      <td>-58.475340</td>\n",
       "      <td>-34.687570</td>\n",
       "      <td>MOTO</td>\n",
       "      <td>AUTO</td>\n",
       "      <td>FATAL</td>\n",
       "      <td>HOMICIDIO CULPOSO</td>\n",
       "    </tr>\n",
       "    <tr>\n",
       "      <th>1</th>\n",
       "      <td>2016-0002</td>\n",
       "      <td>1</td>\n",
       "      <td>2016-01-02</td>\n",
       "      <td>1.0</td>\n",
       "      <td>AVENIDA</td>\n",
       "      <td>9.0</td>\n",
       "      <td>Point (95832.05571093 95505.41641999)</td>\n",
       "      <td>-58.508775</td>\n",
       "      <td>-34.669777</td>\n",
       "      <td>AUTO</td>\n",
       "      <td>PASAJEROS</td>\n",
       "      <td>FATAL</td>\n",
       "      <td>HOMICIDIO CULPOSO</td>\n",
       "    </tr>\n",
       "    <tr>\n",
       "      <th>2</th>\n",
       "      <td>2016-0003</td>\n",
       "      <td>1</td>\n",
       "      <td>2016-01-03</td>\n",
       "      <td>7.0</td>\n",
       "      <td>AVENIDA</td>\n",
       "      <td>1.0</td>\n",
       "      <td>Point (106684.29090040 99706.57687843)</td>\n",
       "      <td>-58.390403</td>\n",
       "      <td>-34.631894</td>\n",
       "      <td>MOTO</td>\n",
       "      <td>AUTO</td>\n",
       "      <td>FATAL</td>\n",
       "      <td>HOMICIDIO CULPOSO</td>\n",
       "    </tr>\n",
       "  </tbody>\n",
       "</table>\n",
       "</div>"
      ],
      "text/plain": [
       "    ID_HECHO  N_VICTIMAS      FECHA  HORA TIPO_DE_CALLE  COMUNA  \\\n",
       "0  2016-0001           1 2016-01-01   4.0       AVENIDA     8.0   \n",
       "1  2016-0002           1 2016-01-02   1.0       AVENIDA     9.0   \n",
       "2  2016-0003           1 2016-01-03   7.0       AVENIDA     1.0   \n",
       "\n",
       "                                XY (CABA)   LONGITUD    LATITUD  \\\n",
       "0   Point (98896.78238426 93532.43437792) -58.475340 -34.687570   \n",
       "1   Point (95832.05571093 95505.41641999) -58.508775 -34.669777   \n",
       "2  Point (106684.29090040 99706.57687843) -58.390403 -34.631894   \n",
       "\n",
       "  VEHICULO_VICTIMA VEHICULO_ACUSADO GRAVEDAD  CARATULA_POLICIAL  \n",
       "0             MOTO             AUTO    FATAL  HOMICIDIO CULPOSO  \n",
       "1             AUTO        PASAJEROS    FATAL  HOMICIDIO CULPOSO  \n",
       "2             MOTO             AUTO    FATAL  HOMICIDIO CULPOSO  "
      ]
     },
     "execution_count": 13,
     "metadata": {},
     "output_type": "execute_result"
    }
   ],
   "source": [
    "fatal_moto = pd.read_excel('accidentes.xlsx')\n",
    "fatal_moto.head(3)"
   ]
  },
  {
   "cell_type": "code",
   "execution_count": 14,
   "metadata": {},
   "outputs": [],
   "source": [
    "# Cambiamos el tipo de dato de FECHA y mantenemos solo las filas donde GRAVEDAD sea FATAL\n",
    "fatal_moto['FECHA'] = pd.to_datetime(fatal_moto['FECHA'])\n",
    "fatal_moto = fatal_moto[fatal_moto['GRAVEDAD'] == 'FATAL']"
   ]
  },
  {
   "cell_type": "code",
   "execution_count": 15,
   "metadata": {},
   "outputs": [],
   "source": [
    "# Filtramos por VEHICULO_VICTIMA == MOTO\n",
    "fatal_moto = fatal_moto[fatal_moto['VEHICULO_VICTIMA'] == 'MOTO']"
   ]
  },
  {
   "cell_type": "code",
   "execution_count": 16,
   "metadata": {},
   "outputs": [],
   "source": [
    "# Creamos columna de AÑO\n",
    "fatal_moto['AÑO'] = fatal_moto['FECHA'].dt.year"
   ]
  },
  {
   "cell_type": "code",
   "execution_count": 17,
   "metadata": {},
   "outputs": [],
   "source": [
    "#Agrupamos por año\n",
    "fatal_moto = fatal_moto.groupby('AÑO').size().reset_index(name='ACCIDENTES FATALES')"
   ]
  },
  {
   "cell_type": "code",
   "execution_count": 18,
   "metadata": {},
   "outputs": [],
   "source": [
    "# Creamos la nueva columna 'TOTAL HABITANTES' en el DataFrame accidentes_CABA\n",
    "fatal_moto['TOTAL HABITANTES'] = 0  # Inicializar la columna con ceros\n",
    "\n",
    "# Asignamos el valor correspondiente a cada fila en función del año\n",
    "fatal_moto.loc[fatal_moto['AÑO'] == 2016, 'TOTAL HABITANTES'] = hab_2016\n",
    "fatal_moto.loc[fatal_moto['AÑO'] == 2017, 'TOTAL HABITANTES'] = hab_2017\n",
    "fatal_moto.loc[fatal_moto['AÑO'] == 2018, 'TOTAL HABITANTES'] = hab_2018\n",
    "fatal_moto.loc[fatal_moto['AÑO'] == 2019, 'TOTAL HABITANTES'] = hab_2019\n",
    "fatal_moto.loc[fatal_moto['AÑO'] == 2020, 'TOTAL HABITANTES'] = hab_2020\n",
    "fatal_moto.loc[fatal_moto['AÑO'] == 2021, 'TOTAL HABITANTES'] = hab_2021"
   ]
  },
  {
   "cell_type": "code",
   "execution_count": 19,
   "metadata": {},
   "outputs": [
    {
     "data": {
      "text/html": [
       "<div>\n",
       "<style scoped>\n",
       "    .dataframe tbody tr th:only-of-type {\n",
       "        vertical-align: middle;\n",
       "    }\n",
       "\n",
       "    .dataframe tbody tr th {\n",
       "        vertical-align: top;\n",
       "    }\n",
       "\n",
       "    .dataframe thead th {\n",
       "        text-align: right;\n",
       "    }\n",
       "</style>\n",
       "<table border=\"1\" class=\"dataframe\">\n",
       "  <thead>\n",
       "    <tr style=\"text-align: right;\">\n",
       "      <th></th>\n",
       "      <th>AÑO</th>\n",
       "      <th>ACCIDENTES FATALES</th>\n",
       "      <th>TOTAL HABITANTES</th>\n",
       "    </tr>\n",
       "  </thead>\n",
       "  <tbody>\n",
       "    <tr>\n",
       "      <th>0</th>\n",
       "      <td>2016</td>\n",
       "      <td>64</td>\n",
       "      <td>3059122</td>\n",
       "    </tr>\n",
       "    <tr>\n",
       "      <th>1</th>\n",
       "      <td>2017</td>\n",
       "      <td>53</td>\n",
       "      <td>3063728</td>\n",
       "    </tr>\n",
       "    <tr>\n",
       "      <th>2</th>\n",
       "      <td>2018</td>\n",
       "      <td>55</td>\n",
       "      <td>3068043</td>\n",
       "    </tr>\n",
       "    <tr>\n",
       "      <th>3</th>\n",
       "      <td>2019</td>\n",
       "      <td>50</td>\n",
       "      <td>3072029</td>\n",
       "    </tr>\n",
       "    <tr>\n",
       "      <th>4</th>\n",
       "      <td>2020</td>\n",
       "      <td>29</td>\n",
       "      <td>3075646</td>\n",
       "    </tr>\n",
       "    <tr>\n",
       "      <th>5</th>\n",
       "      <td>2021</td>\n",
       "      <td>46</td>\n",
       "      <td>3078836</td>\n",
       "    </tr>\n",
       "  </tbody>\n",
       "</table>\n",
       "</div>"
      ],
      "text/plain": [
       "    AÑO  ACCIDENTES FATALES  TOTAL HABITANTES\n",
       "0  2016                  64           3059122\n",
       "1  2017                  53           3063728\n",
       "2  2018                  55           3068043\n",
       "3  2019                  50           3072029\n",
       "4  2020                  29           3075646\n",
       "5  2021                  46           3078836"
      ]
     },
     "execution_count": 19,
     "metadata": {},
     "output_type": "execute_result"
    }
   ],
   "source": [
    "fatal_moto"
   ]
  },
  {
   "cell_type": "markdown",
   "metadata": {},
   "source": [
    "### _`1er KPI`_: Reducir en un 10% la tasa de homicidios en siniestros viales de los últimos seis meses, en CABA, en comparación con la tasa de homicidios en siniestros viales del semestre anterior."
   ]
  },
  {
   "cell_type": "code",
   "execution_count": 58,
   "metadata": {},
   "outputs": [
    {
     "name": "stdout",
     "output_type": "stream",
     "text": [
      "    AÑO  FATAL SEM 1  FATAL SEM 2  TASA SEM 1  TASA SEM 2  REDUCCIÓN TASA\n",
      "0  2016           64           80    2.092104    2.615129       25.000000\n",
      "1  2017           64           67    2.088958    2.186878        4.687500\n",
      "2  2018           67           76    2.183803    2.477149       13.432836\n",
      "3  2019           56           47    1.822899    1.529933      -16.071429\n",
      "4  2020           32           49    1.040432    1.593161       53.125000\n",
      "5  2021           55           42    1.786389    1.364152      -23.636364\n"
     ]
    }
   ],
   "source": [
    "# Calculamos la tasa de homicidios para cada semestre\n",
    "accidentes_CABA['TASA SEM 1'] = (accidentes_CABA['FATAL SEM 1'] / accidentes_CABA['TOTAL HABITANTES']) * 100000\n",
    "accidentes_CABA['TASA SEM 2'] = (accidentes_CABA['FATAL SEM 2'] / accidentes_CABA['TOTAL HABITANTES']) * 100000\n",
    "\n",
    "# Calculamos la variación porcentual entre los semestres del mismo año\n",
    "accidentes_CABA['REDUCCIÓN TASA'] = (\n",
    "    (accidentes_CABA['TASA SEM 2'] - accidentes_CABA['TASA SEM 1']) / abs(accidentes_CABA['TASA SEM 1'])\n",
    ") * 100\n",
    "\n",
    "# Mostramos los resultados para el primer KPI\n",
    "print(accidentes_CABA[['AÑO', 'FATAL SEM 1', 'FATAL SEM 2', 'TASA SEM 1', 'TASA SEM 2', 'REDUCCIÓN TASA']])"
   ]
  },
  {
   "cell_type": "markdown",
   "metadata": {},
   "source": [
    "### _`2do KPI`_: Reducir en un 7% la cantidad de accidentes mortales de motociclistas en el último año, en CABA, respecto al año anterior."
   ]
  },
  {
   "cell_type": "code",
   "execution_count": 30,
   "metadata": {},
   "outputs": [
    {
     "name": "stdout",
     "output_type": "stream",
     "text": [
      "    AÑO  ACCIDENTES FATAL MOTO  TASA ACCIDENTES  REDUCCION ACCIDENTES MOTO\n",
      "0  2016                     64         2.092104                 -20.754717\n",
      "1  2017                     53         1.729919                   3.636364\n",
      "2  2018                     55         1.792674                 -10.000000\n",
      "3  2019                     50         1.627589                 -72.413793\n",
      "4  2020                     29         0.942891                  36.956522\n",
      "5  2021                     46         1.494071                        NaN\n"
     ]
    }
   ],
   "source": [
    "# Calculamos la cantidad de accidentes mortales de motociclistas para el DataFrame fatal_moto\n",
    "fatal_moto['ACCIDENTES FATAL MOTO'] = fatal_moto['ACCIDENTES FATALES']\n",
    "\n",
    "# Calculamos la tasa de accidentes mortales de motociclistas\n",
    "fatal_moto['TASA ACCIDENTES'] = (fatal_moto['ACCIDENTES FATAL MOTO'] / fatal_moto['TOTAL HABITANTES']) * 100000\n",
    "\n",
    "# Calculamos la variación porcentual entre los años\n",
    "fatal_moto['REDUCCION ACCIDENTES MOTO'] = ((fatal_moto['ACCIDENTES FATAL MOTO'].shift(-1) - fatal_moto['ACCIDENTES FATAL MOTO']) / fatal_moto['ACCIDENTES FATAL MOTO'].shift(-1)) * 100\n",
    "\n",
    "# Mostramos los resultados para el segundo KPI\n",
    "print(fatal_moto[['AÑO', 'ACCIDENTES FATAL MOTO', 'TASA ACCIDENTES', 'REDUCCION ACCIDENTES MOTO']])"
   ]
  },
  {
   "cell_type": "code",
   "execution_count": 22,
   "metadata": {},
   "outputs": [],
   "source": [
    "fatal_moto.to_excel('segundo_kpi.xlsx', index=False)"
   ]
  }
 ],
 "metadata": {
  "kernelspec": {
   "display_name": "Python 3",
   "language": "python",
   "name": "python3"
  },
  "language_info": {
   "codemirror_mode": {
    "name": "ipython",
    "version": 3
   },
   "file_extension": ".py",
   "mimetype": "text/x-python",
   "name": "python",
   "nbconvert_exporter": "python",
   "pygments_lexer": "ipython3",
   "version": "3.11.6"
  }
 },
 "nbformat": 4,
 "nbformat_minor": 2
}
